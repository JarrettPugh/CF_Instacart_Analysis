{
 "cells": [
  {
   "cell_type": "markdown",
   "id": "171e2919",
   "metadata": {},
   "source": [
    "# 4.2 Importing libraries and Python data types"
   ]
  },
  {
   "cell_type": "markdown",
   "id": "a67474a3",
   "metadata": {},
   "source": [
    "### Script contents:\n",
    "\n",
    "#### 01. Importing Libraries\n",
    "#### 02. Python Datatypes"
   ]
  },
  {
   "cell_type": "markdown",
   "id": "0e68aa02",
   "metadata": {},
   "source": [
    "### 01. Importing Libraries"
   ]
  },
  {
   "cell_type": "code",
   "execution_count": 1,
   "id": "7a6cb856",
   "metadata": {},
   "outputs": [],
   "source": [
    "# Import libraries\n",
    "import pandas as pd\n",
    "import numpy as np\n",
    "import os"
   ]
  },
  {
   "cell_type": "markdown",
   "id": "2873db3a",
   "metadata": {},
   "source": [
    "### 02. Python Datatypes"
   ]
  },
  {
   "cell_type": "code",
   "execution_count": 25,
   "id": "52519876",
   "metadata": {},
   "outputs": [],
   "source": [
    "# 7. Code 3 different ways of reaching a result of 100 by adding or subtracting numeric variables.\n",
    "w = 10\n",
    "x = 50\n",
    "y = 200\n",
    "z = 2"
   ]
  },
  {
   "cell_type": "code",
   "execution_count": 24,
   "id": "a3721a42",
   "metadata": {},
   "outputs": [
    {
     "data": {
      "text/plain": [
       "100"
      ]
     },
     "execution_count": 24,
     "metadata": {},
     "output_type": "execute_result"
    }
   ],
   "source": [
    "w + x + z + 38"
   ]
  },
  {
   "cell_type": "code",
   "execution_count": 26,
   "id": "83b38363",
   "metadata": {},
   "outputs": [
    {
     "data": {
      "text/plain": [
       "100"
      ]
     },
     "execution_count": 26,
     "metadata": {},
     "output_type": "execute_result"
    }
   ],
   "source": [
    "y - (z * x)"
   ]
  },
  {
   "cell_type": "code",
   "execution_count": 27,
   "id": "528bd428",
   "metadata": {},
   "outputs": [
    {
     "data": {
      "text/plain": [
       "100"
      ]
     },
     "execution_count": 27,
     "metadata": {},
     "output_type": "execute_result"
    }
   ],
   "source": [
    "5 * w + x"
   ]
  },
  {
   "cell_type": "code",
   "execution_count": 31,
   "id": "6a1fb176",
   "metadata": {},
   "outputs": [],
   "source": [
    "# 8. Code 2 floating-point variables and divide them by each other.\n",
    "x = 3.14\n",
    "y = 9.99"
   ]
  },
  {
   "cell_type": "code",
   "execution_count": 56,
   "id": "f5462636",
   "metadata": {},
   "outputs": [
    {
     "data": {
      "text/plain": [
       "0.31431431431431434"
      ]
     },
     "execution_count": 56,
     "metadata": {},
     "output_type": "execute_result"
    }
   ],
   "source": [
    "x/y"
   ]
  },
  {
   "cell_type": "code",
   "execution_count": 33,
   "id": "e653528a",
   "metadata": {},
   "outputs": [],
   "source": [
    "# 9. Construct a short word made of separate strings (you’ll need to concatenate some strings!).\n",
    "a = 'Ju'\n",
    "b = 'py'\n",
    "c = 'ter'"
   ]
  },
  {
   "cell_type": "code",
   "execution_count": 35,
   "id": "32eef067",
   "metadata": {},
   "outputs": [
    {
     "name": "stdout",
     "output_type": "stream",
     "text": [
      "Jupyter\n"
     ]
    }
   ],
   "source": [
    "print(a + b + c)"
   ]
  },
  {
   "cell_type": "code",
   "execution_count": 36,
   "id": "0b81da8d",
   "metadata": {},
   "outputs": [],
   "source": [
    "# 10. Construct 2 short sentences made of separate strings.\n",
    "d = 'I use '\n",
    "e = ' for coding.'\n",
    "f = 'It is great!'"
   ]
  },
  {
   "cell_type": "code",
   "execution_count": 43,
   "id": "c7f86519",
   "metadata": {},
   "outputs": [
    {
     "name": "stdout",
     "output_type": "stream",
     "text": [
      "I use Jupyter for coding\n",
      "It is great!\n"
     ]
    }
   ],
   "source": [
    "print(d,a+b+c,e)\n",
    "print(f)"
   ]
  },
  {
   "cell_type": "code",
   "execution_count": 52,
   "id": "1aae313d",
   "metadata": {},
   "outputs": [
    {
     "name": "stdout",
     "output_type": "stream",
     "text": [
      "JupyterJupyterJupyterJupyterJupyterJupyterJupyterJupyterJupyterJupyterJupyterJupyterJupyterJupyterJupyterJupyterJupyterJupyterJupyterJupyterJupyterJupyterJupyterJupyterJupyterJupyterJupyterJupyterJupyterJupyterJupyterJupyterJupyterJupyterJupyterJupyterJupyterJupyterJupyterJupyterJupyterJupyterJupyterJupyterJupyterJupyterJupyterJupyterJupyterJupyterJupyterJupyterJupyterJupyterJupyterJupyterJupyterJupyterJupyterJupyterJupyterJupyterJupyterJupyterJupyterJupyterJupyterJupyterJupyterJupyterJupyterJupyterJupyterJupyterJupyterJupyterJupyterJupyterJupyterJupyterJupyterJupyterJupyterJupyterJupyterJupyterJupyterJupyterJupyterJupyterJupyterJupyterJupyterJupyterJupyterJupyterJupyterJupyterJupyterJupyter\n"
     ]
    }
   ],
   "source": [
    "# Bonus Q: Include a command that makes a string appear 100 times\n",
    "print(100 * (a+b+c))"
   ]
  }
 ],
 "metadata": {
  "kernelspec": {
   "display_name": "Python 3 (ipykernel)",
   "language": "python",
   "name": "python3"
  },
  "language_info": {
   "codemirror_mode": {
    "name": "ipython",
    "version": 3
   },
   "file_extension": ".py",
   "mimetype": "text/x-python",
   "name": "python",
   "nbconvert_exporter": "python",
   "pygments_lexer": "ipython3",
   "version": "3.11.5"
  }
 },
 "nbformat": 4,
 "nbformat_minor": 5
}
