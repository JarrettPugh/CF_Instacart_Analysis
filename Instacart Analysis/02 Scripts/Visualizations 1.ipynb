{
 "cells": [
  {
   "cell_type": "markdown",
   "id": "f41c892d",
   "metadata": {},
   "source": [
    "# Visualizations 1"
   ]
  },
  {
   "cell_type": "markdown",
   "id": "b003665c",
   "metadata": {},
   "source": [
    "### Script contents:\n",
    "\n",
    "#### Importing libraries and data\n",
    "#### Create descriptive day of the week column\n",
    "#### Create visualization for busiest days of the week\n",
    "#### Export data"
   ]
  },
  {
   "cell_type": "markdown",
   "id": "7b548006",
   "metadata": {},
   "source": [
    "## Import data and libraries"
   ]
  },
  {
   "cell_type": "code",
   "execution_count": 1,
   "id": "524b820c",
   "metadata": {},
   "outputs": [],
   "source": [
    "# Import libraries\n",
    "\n",
    "import pandas as pd\n",
    "import os\n",
    "import matplotlib.pyplot as plt\n",
    "import seaborn as sns\n",
    "import scipy"
   ]
  },
  {
   "cell_type": "code",
   "execution_count": 16,
   "id": "8b06046f",
   "metadata": {},
   "outputs": [],
   "source": [
    "from matplotlib.ticker import ScalarFormatter"
   ]
  },
  {
   "cell_type": "code",
   "execution_count": 2,
   "id": "b5ba288d",
   "metadata": {},
   "outputs": [],
   "source": [
    "# Creating a string of the path to main project folder\n",
    "\n",
    "path = '/Users/jarrettpugh/Library/CloudStorage/OneDrive-Personal/Data Analytics/Career Foundry - DA Bootcamp/A4 Python Fundamentals for Data Analysts/Instacart Basket Analysis'"
   ]
  },
  {
   "cell_type": "code",
   "execution_count": 3,
   "id": "e1b327ba",
   "metadata": {},
   "outputs": [],
   "source": [
    "# Import active_customers_orders_products pickle file as dataframe df_cop (cop = customers, orders, products)\n",
    "\n",
    "df_cop = pd.read_pickle(os.path.join(path, '02 Data', 'Prepared Data', 'active_customers_orders_products.pkl'))"
   ]
  },
  {
   "cell_type": "markdown",
   "id": "50098d91",
   "metadata": {},
   "source": [
    "### Create a more descriptive day of the week column"
   ]
  },
  {
   "cell_type": "code",
   "execution_count": 4,
   "id": "c28aa512",
   "metadata": {},
   "outputs": [
    {
     "data": {
      "text/plain": [
       "(30964564, 38)"
      ]
     },
     "execution_count": 4,
     "metadata": {},
     "output_type": "execute_result"
    }
   ],
   "source": [
    "df_cop.shape"
   ]
  },
  {
   "cell_type": "code",
   "execution_count": 5,
   "id": "4954b314",
   "metadata": {},
   "outputs": [
    {
     "data": {
      "text/plain": [
       "Index(['order_id', 'user_id', 'order_number', 'orders_day_of_week',\n",
       "       'order_hour_of_day', 'days_since_prior_order', 'first_order',\n",
       "       'product_id', 'add_to_cart_order', 'reordered', 'product_name',\n",
       "       'aisle_id', 'department_id', 'department', 'prices', 'price_range_loc',\n",
       "       'busiest_days', 'busiest_period_of_day', 'max_order', 'loyalty_flag',\n",
       "       'avg_item_price', 'spending_flag', 'median_days_since_prior_order',\n",
       "       'frequency_flag', 'customer_gender', 'customer_state',\n",
       "       'customer_region', 'customer_age', 'date_joined',\n",
       "       'customer_number_of_dependents', 'customer_family_status',\n",
       "       'customer_income', 'customer_activity', 'age_group', 'income_group',\n",
       "       'customer_dependents', 'customer_diet', 'customer_profile'],\n",
       "      dtype='object')"
      ]
     },
     "execution_count": 5,
     "metadata": {},
     "output_type": "execute_result"
    }
   ],
   "source": [
    "df_cop.columns"
   ]
  },
  {
   "cell_type": "code",
   "execution_count": 8,
   "id": "2f87fbde",
   "metadata": {},
   "outputs": [
    {
     "data": {
      "text/plain": [
       "orders_day_of_week\n",
       "0    5908610\n",
       "1    5411686\n",
       "6    4291304\n",
       "5    4033729\n",
       "2    4024706\n",
       "3    3669535\n",
       "4    3624994\n",
       "Name: count, dtype: int64"
      ]
     },
     "execution_count": 8,
     "metadata": {},
     "output_type": "execute_result"
    }
   ],
   "source": [
    "df_cop['orders_day_of_week'].value_counts(dropna=False)"
   ]
  },
  {
   "cell_type": "code",
   "execution_count": 7,
   "id": "f83a7ec2",
   "metadata": {},
   "outputs": [],
   "source": [
    "# Create new column 'order_dow_name'"
   ]
  },
  {
   "cell_type": "code",
   "execution_count": 9,
   "id": "4f8e4666",
   "metadata": {},
   "outputs": [
    {
     "name": "stderr",
     "output_type": "stream",
     "text": [
      "/var/folders/rh/wj0j2y0n7j1_m28h5wbms8q00000gn/T/ipykernel_13152/2034026717.py:4: FutureWarning: Setting an item of incompatible dtype is deprecated and will raise in a future error of pandas. Value 'Saturday' has dtype incompatible with float64, please explicitly cast to a compatible dtype first.\n",
      "  df_cop.loc[df_cop['orders_day_of_week'] == 0, 'order_dow_name'] = 'Saturday'\n"
     ]
    }
   ],
   "source": [
    "# Create conditions for new column 'order_dow_name'\n",
    "\n",
    "# If 'orders_day_of_week' is 0, value in 'order_dow_name' will be 'Saturday'\n",
    "df_cop.loc[df_cop['orders_day_of_week'] == 0, 'order_dow_name'] = 'Saturday'\n",
    "\n",
    "# If 'orders_day_of_week' is 1, value in 'order_dow_name' will be 'Sunday'\n",
    "df_cop.loc[df_cop['orders_day_of_week'] == 1, 'order_dow_name'] = 'Sunday'\n",
    "\n",
    "# If 'orders_day_of_week' is 2, value in 'order_dow_name' will be 'Monday'\n",
    "df_cop.loc[df_cop['orders_day_of_week'] == 2, 'order_dow_name'] = 'Monday'\n",
    "\n",
    "# If 'orders_day_of_week' is 3, value in 'order_dow_name' will be 'Tuesday'\n",
    "df_cop.loc[df_cop['orders_day_of_week'] == 3, 'order_dow_name'] = 'Tuesday'\n",
    "\n",
    "# If 'orders_day_of_week' is 4, value in 'order_dow_name' will be 'Wednesday'\n",
    "df_cop.loc[df_cop['orders_day_of_week'] == 4, 'order_dow_name'] = 'Wednesday'\n",
    "\n",
    "# If 'orders_day_of_week' is 5, value in 'order_dow_name' will be 'Thursday'\n",
    "df_cop.loc[df_cop['orders_day_of_week'] == 5, 'order_dow_name'] = 'Thursday'\n",
    "\n",
    "# If 'orders_day_of_week' is 6, value in 'order_dow_name' will be 'Friday'\n",
    "df_cop.loc[df_cop['orders_day_of_week'] == 6, 'order_dow_name'] = 'Friday'"
   ]
  },
  {
   "cell_type": "code",
   "execution_count": 10,
   "id": "60f004ad",
   "metadata": {},
   "outputs": [
    {
     "data": {
      "text/plain": [
       "order_dow_name\n",
       "Saturday     5908610\n",
       "Sunday       5411686\n",
       "Friday       4291304\n",
       "Thursday     4033729\n",
       "Monday       4024706\n",
       "Tuesday      3669535\n",
       "Wednesday    3624994\n",
       "Name: count, dtype: int64"
      ]
     },
     "execution_count": 10,
     "metadata": {},
     "output_type": "execute_result"
    }
   ],
   "source": [
    "# Recheck value counts\n",
    "\n",
    "df_cop['order_dow_name'].value_counts(dropna=False)"
   ]
  },
  {
   "cell_type": "markdown",
   "id": "9c416a8b",
   "metadata": {},
   "source": [
    "### Create visualization for busiest days of the week"
   ]
  },
  {
   "cell_type": "code",
   "execution_count": 13,
   "id": "213a3753",
   "metadata": {},
   "outputs": [],
   "source": [
    "# Create subset of df_cop for visualization need\n",
    "\n",
    "df_busiest_days_of_the_week = df_cop[['order_id', 'order_dow_name', 'order_hour_of_day']]"
   ]
  },
  {
   "cell_type": "code",
   "execution_count": 17,
   "id": "7e1834d0",
   "metadata": {},
   "outputs": [
    {
     "data": {
      "image/png": "[encoded data removed]",
      "text/plain": [
       "<Figure size 640x480 with 1 Axes>"
      ]
     },
     "metadata": {},
     "output_type": "display_data"
    }
   ],
   "source": [
    "# Create a bar chart from the 'order_dow_name' column\n",
    "\n",
    "bar_busiest_days_of_the_week = df_busiest_days_of_the_week['order_dow_name'].value_counts().plot.barh(\n",
    "title='Busiest Days of the Week',\n",
    "    xlabel= 'Number of Orders',\n",
    "    ylabel= 'Day of the Week'\n",
    ")"
   ]
  },
  {
   "cell_type": "markdown",
   "id": "3ce80864",
   "metadata": {},
   "source": [
    "# Export data"
   ]
  },
  {
   "cell_type": "code",
   "execution_count": 23,
   "id": "baea3b51",
   "metadata": {
    "scrolled": true
   },
   "outputs": [],
   "source": [
    "# Export df_cop as pickle file 'active_customers_orders_products'\n",
    "\n",
    "df_cop.to_pickle(os.path.join(path, '02 Data','Prepared Data', 'active_customers_orders_products.pkl'))"
   ]
  },
  {
   "cell_type": "code",
   "execution_count": null,
   "id": "2bdb339b",
   "metadata": {},
   "outputs": [],
   "source": []
  },
  {
   "cell_type": "code",
   "execution_count": null,
   "id": "e9983454",
   "metadata": {},
   "outputs": [],
   "source": []
  },
  {
   "cell_type": "code",
   "execution_count": null,
   "id": "ab5afbd7",
   "metadata": {},
   "outputs": [],
   "source": []
  },
  {
   "cell_type": "code",
   "execution_count": null,
   "id": "4435dd87",
   "metadata": {},
   "outputs": [],
   "source": []
  }
 ],
 "metadata": {
  "kernelspec": {
   "display_name": "Python 3 (ipykernel)",
   "language": "python",
   "name": "python3"
  },
  "language_info": {
   "codemirror_mode": {
    "name": "ipython",
    "version": 3
   },
   "file_extension": ".py",
   "mimetype": "text/x-python",
   "name": "python",
   "nbconvert_exporter": "python",
   "pygments_lexer": "ipython3",
   "version": "3.11.5"
  }
 },
 "nbformat": 4,
 "nbformat_minor": 5
}
