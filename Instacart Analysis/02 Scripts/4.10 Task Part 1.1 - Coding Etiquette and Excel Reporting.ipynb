{
 "cells": [
  {
   "cell_type": "markdown",
   "id": "dbd25d2a",
   "metadata": {},
   "source": [
    "# 4.10 Task Part 1.1 - Coding Etiquette and Excel Reporting"
   ]
  },
  {
   "cell_type": "markdown",
   "id": "65312f19",
   "metadata": {},
   "source": [
    "### Script contents:\n",
    "\n",
    "#### 1. Import libraries and data\n",
    "#### 2. Consider any security implications that might exist for this new data. You’ll need to address any PII data in the data before continuing your analysis.\n",
    "#### 3. Create a regional segmentation of the data\n",
    "#### 4. Create an exclusion flag for low-activity customers (customers with less than 5 orders) and exclude them from the data\n",
    "#### 5. Create a profiling variable based on age, income, certain goods in the “department_id” column, and number of dependents"
   ]
  },
  {
   "cell_type": "markdown",
   "id": "e08933f1",
   "metadata": {},
   "source": [
    "## Import libraries and data"
   ]
  },
  {
   "cell_type": "code",
   "execution_count": 1,
   "id": "8a5d3523",
   "metadata": {},
   "outputs": [],
   "source": [
    "# Import libraries\n",
    "\n",
    "import pandas as pd\n",
    "import numpy as np\n",
    "import os\n",
    "import matplotlib.pyplot as plt\n",
    "import seaborn as sns\n",
    "import scipy"
   ]
  },
  {
   "cell_type": "markdown",
   "id": "2a0b9fc3",
   "metadata": {},
   "source": [
    "#### 1. Import the data set you exported in Exercise 4.9 into a new Jupyter notebook. This should be the merged version of your data that contains the new customers column.\n"
   ]
  },
  {
   "cell_type": "code",
   "execution_count": 2,
   "id": "ad837254",
   "metadata": {},
   "outputs": [],
   "source": [
    "# Creating a string of the path to main project folder\n",
    "\n",
    "path = '/Users/jarrettpugh/Library/CloudStorage/OneDrive-Personal/Data Analytics/Career Foundry - DA Bootcamp/A4 Python Fundamentals for Data Analysts/Instacart Basket Analysis'"
   ]
  },
  {
   "cell_type": "code",
   "execution_count": 3,
   "id": "0bf7df13",
   "metadata": {},
   "outputs": [],
   "source": [
    "# Import customers_orders_products.pkl as dataframe 'cust_ords_prods'\n",
    "\n",
    "cust_ords_prods = pd.read_pickle(os.path.join(path, '02 Data', 'Prepared Data', 'customers_orders_products.pkl'))"
   ]
  },
  {
   "cell_type": "code",
   "execution_count": 4,
   "id": "7123d7d8",
   "metadata": {},
   "outputs": [],
   "source": [
    "# Import states_regions.csv as dataframe 'states_regions'\n",
    "\n",
    "states_regions = pd.read_csv(os.path.join(path, '02 Data', 'Original Data', 'states_regions.csv'))"
   ]
  },
  {
   "cell_type": "code",
   "execution_count": 5,
   "id": "6bbc2859",
   "metadata": {},
   "outputs": [],
   "source": [
    "# Import departments_wrangled.csv as dataframe 'departments'\n",
    "\n",
    "departments = pd.read_csv(os.path.join(path, '02 Data', 'Prepared Data', 'departments_wrangled.csv'), index_col=None)"
   ]
  },
  {
   "cell_type": "markdown",
   "id": "50ed7e1a",
   "metadata": {},
   "source": [
    "#### 2. Consider any security implications that might exist for this new data. You’ll need to address any PII data in the data before continuing your analysis.\n"
   ]
  },
  {
   "cell_type": "code",
   "execution_count": 6,
   "id": "ed21101a",
   "metadata": {
    "scrolled": true
   },
   "outputs": [
    {
     "data": {
      "text/html": [
       "<div>\n",
       "<style scoped>\n",
       "    .dataframe tbody tr th:only-of-type {\n",
       "        vertical-align: middle;\n",
       "    }\n",
       "\n",
       "    .dataframe tbody tr th {\n",
       "        vertical-align: top;\n",
       "    }\n",
       "\n",
       "    .dataframe thead th {\n",
       "        text-align: right;\n",
       "    }\n",
       "</style>\n",
       "<table border=\"1\" class=\"dataframe\">\n",
       "  <thead>\n",
       "    <tr style=\"text-align: right;\">\n",
       "      <th></th>\n",
       "      <th>first_name</th>\n",
       "      <th>last_name</th>\n",
       "    </tr>\n",
       "  </thead>\n",
       "  <tbody>\n",
       "    <tr>\n",
       "      <th>0</th>\n",
       "      <td>Linda</td>\n",
       "      <td>Nguyen</td>\n",
       "    </tr>\n",
       "    <tr>\n",
       "      <th>1</th>\n",
       "      <td>Linda</td>\n",
       "      <td>Nguyen</td>\n",
       "    </tr>\n",
       "    <tr>\n",
       "      <th>2</th>\n",
       "      <td>Linda</td>\n",
       "      <td>Nguyen</td>\n",
       "    </tr>\n",
       "    <tr>\n",
       "      <th>3</th>\n",
       "      <td>Linda</td>\n",
       "      <td>Nguyen</td>\n",
       "    </tr>\n",
       "    <tr>\n",
       "      <th>4</th>\n",
       "      <td>Linda</td>\n",
       "      <td>Nguyen</td>\n",
       "    </tr>\n",
       "    <tr>\n",
       "      <th>...</th>\n",
       "      <td>...</td>\n",
       "      <td>...</td>\n",
       "    </tr>\n",
       "    <tr>\n",
       "      <th>32404854</th>\n",
       "      <td>Gerald</td>\n",
       "      <td>Yates</td>\n",
       "    </tr>\n",
       "    <tr>\n",
       "      <th>32404855</th>\n",
       "      <td>Jacqueline</td>\n",
       "      <td>Arroyo</td>\n",
       "    </tr>\n",
       "    <tr>\n",
       "      <th>32404856</th>\n",
       "      <td>Jacqueline</td>\n",
       "      <td>Arroyo</td>\n",
       "    </tr>\n",
       "    <tr>\n",
       "      <th>32404857</th>\n",
       "      <td>Jacqueline</td>\n",
       "      <td>Arroyo</td>\n",
       "    </tr>\n",
       "    <tr>\n",
       "      <th>32404858</th>\n",
       "      <td>Jacqueline</td>\n",
       "      <td>Arroyo</td>\n",
       "    </tr>\n",
       "  </tbody>\n",
       "</table>\n",
       "<p>32404859 rows × 2 columns</p>\n",
       "</div>"
      ],
      "text/plain": [
       "          first_name last_name\n",
       "0              Linda    Nguyen\n",
       "1              Linda    Nguyen\n",
       "2              Linda    Nguyen\n",
       "3              Linda    Nguyen\n",
       "4              Linda    Nguyen\n",
       "...              ...       ...\n",
       "32404854      Gerald     Yates\n",
       "32404855  Jacqueline    Arroyo\n",
       "32404856  Jacqueline    Arroyo\n",
       "32404857  Jacqueline    Arroyo\n",
       "32404858  Jacqueline    Arroyo\n",
       "\n",
       "[32404859 rows x 2 columns]"
      ]
     },
     "execution_count": 6,
     "metadata": {},
     "output_type": "execute_result"
    }
   ],
   "source": [
    "cust_ords_prods[['first_name', 'last_name']]"
   ]
  },
  {
   "cell_type": "code",
   "execution_count": 7,
   "id": "1fa7f5b1",
   "metadata": {},
   "outputs": [],
   "source": [
    "# Dropping 'first_name' and 'last_name' columns to ensure data privacy and security of PII data\n",
    "\n",
    "cust_ords_prods = cust_ords_prods.drop(['first_name', 'last_name'], axis=1)"
   ]
  },
  {
   "cell_type": "code",
   "execution_count": 8,
   "id": "452fe207",
   "metadata": {},
   "outputs": [
    {
     "data": {
      "text/plain": [
       "Index(['order_id', 'user_id', 'order_number', 'orders_day_of_week',\n",
       "       'order_hour_of_day', 'days_since_prior_order', 'first_order',\n",
       "       'product_id', 'add_to_cart_order', 'reordered', 'product_name',\n",
       "       'aisle_id', 'department_id', 'prices', 'price_range_loc',\n",
       "       'busiest_days', 'busiest_period_of_day', 'max_order', 'loyalty_flag',\n",
       "       'avg_item_price', 'spending_flag', 'median_days_since_prior_order',\n",
       "       'frequency_flag', 'customer_gender', 'customer_state', 'customer_age',\n",
       "       'date_joined', 'customer_number_of_dependents',\n",
       "       'customer_family_status', 'customer_income', '_merge'],\n",
       "      dtype='object')"
      ]
     },
     "execution_count": 8,
     "metadata": {},
     "output_type": "execute_result"
    }
   ],
   "source": [
    "# Checking for any other columns with PII data\n",
    "\n",
    "cust_ords_prods.columns"
   ]
  },
  {
   "cell_type": "code",
   "execution_count": 9,
   "id": "87c3f9f8",
   "metadata": {},
   "outputs": [],
   "source": [
    "cust_ords_prods = cust_ords_prods.drop('_merge', axis=1)"
   ]
  },
  {
   "cell_type": "markdown",
   "id": "8bfb6886",
   "metadata": {},
   "source": [
    "#### 3. The Instacart officers are interested in comparing customer behavior in different geographic areas. Create a regional segmentation of the data. You’ll need to create a “Region” column based on the “State” column from your customers data set.\n",
    "\n",
    "    -Use the region information in this Wikipedia article to create your column (you only need to create regions, not divisions).\n",
    "    \n",
    "    -Determine whether there’s a difference in spending habits between the different U.S. regions. (Hint: You can do this by crossing the variable you just created with the spending flag.)"
   ]
  },
  {
   "cell_type": "code",
   "execution_count": 10,
   "id": "67ea5a62",
   "metadata": {},
   "outputs": [],
   "source": [
    "states_regions = states_regions.reset_index(drop=True)"
   ]
  },
  {
   "cell_type": "code",
   "execution_count": 11,
   "id": "9585d625",
   "metadata": {},
   "outputs": [],
   "source": [
    "# Rename columns to match cust_ords_prods organization\n",
    "\n",
    "states_regions = states_regions.rename(columns={'State': 'customer_state', 'Region': 'customer_region'})"
   ]
  },
  {
   "cell_type": "code",
   "execution_count": 12,
   "id": "27dd69c0",
   "metadata": {
    "scrolled": true
   },
   "outputs": [
    {
     "data": {
      "text/html": [
       "<div>\n",
       "<style scoped>\n",
       "    .dataframe tbody tr th:only-of-type {\n",
       "        vertical-align: middle;\n",
       "    }\n",
       "\n",
       "    .dataframe tbody tr th {\n",
       "        vertical-align: top;\n",
       "    }\n",
       "\n",
       "    .dataframe thead th {\n",
       "        text-align: right;\n",
       "    }\n",
       "</style>\n",
       "<table border=\"1\" class=\"dataframe\">\n",
       "  <thead>\n",
       "    <tr style=\"text-align: right;\">\n",
       "      <th></th>\n",
       "      <th>customer_state</th>\n",
       "      <th>customer_region</th>\n",
       "    </tr>\n",
       "  </thead>\n",
       "  <tbody>\n",
       "    <tr>\n",
       "      <th>0</th>\n",
       "      <td>Maine</td>\n",
       "      <td>Northeast</td>\n",
       "    </tr>\n",
       "    <tr>\n",
       "      <th>1</th>\n",
       "      <td>New Hampshire</td>\n",
       "      <td>Northeast</td>\n",
       "    </tr>\n",
       "    <tr>\n",
       "      <th>2</th>\n",
       "      <td>Vermont</td>\n",
       "      <td>Northeast</td>\n",
       "    </tr>\n",
       "    <tr>\n",
       "      <th>3</th>\n",
       "      <td>Massachusetts</td>\n",
       "      <td>Northeast</td>\n",
       "    </tr>\n",
       "    <tr>\n",
       "      <th>4</th>\n",
       "      <td>Rhode Island</td>\n",
       "      <td>Northeast</td>\n",
       "    </tr>\n",
       "    <tr>\n",
       "      <th>5</th>\n",
       "      <td>Connecticut</td>\n",
       "      <td>Northeast</td>\n",
       "    </tr>\n",
       "    <tr>\n",
       "      <th>6</th>\n",
       "      <td>New York</td>\n",
       "      <td>Northeast</td>\n",
       "    </tr>\n",
       "    <tr>\n",
       "      <th>7</th>\n",
       "      <td>Pennsylvania</td>\n",
       "      <td>Northeast</td>\n",
       "    </tr>\n",
       "    <tr>\n",
       "      <th>8</th>\n",
       "      <td>New Jersey</td>\n",
       "      <td>Northeast</td>\n",
       "    </tr>\n",
       "    <tr>\n",
       "      <th>9</th>\n",
       "      <td>North Dakota</td>\n",
       "      <td>Midwest</td>\n",
       "    </tr>\n",
       "    <tr>\n",
       "      <th>10</th>\n",
       "      <td>South Dakota</td>\n",
       "      <td>Midwest</td>\n",
       "    </tr>\n",
       "    <tr>\n",
       "      <th>11</th>\n",
       "      <td>Nebraska</td>\n",
       "      <td>Midwest</td>\n",
       "    </tr>\n",
       "    <tr>\n",
       "      <th>12</th>\n",
       "      <td>Kansas</td>\n",
       "      <td>Midwest</td>\n",
       "    </tr>\n",
       "    <tr>\n",
       "      <th>13</th>\n",
       "      <td>Minnesota</td>\n",
       "      <td>Midwest</td>\n",
       "    </tr>\n",
       "    <tr>\n",
       "      <th>14</th>\n",
       "      <td>Iowa</td>\n",
       "      <td>Midwest</td>\n",
       "    </tr>\n",
       "    <tr>\n",
       "      <th>15</th>\n",
       "      <td>Missouri</td>\n",
       "      <td>Midwest</td>\n",
       "    </tr>\n",
       "    <tr>\n",
       "      <th>16</th>\n",
       "      <td>Wisconsin</td>\n",
       "      <td>Midwest</td>\n",
       "    </tr>\n",
       "    <tr>\n",
       "      <th>17</th>\n",
       "      <td>Michigan</td>\n",
       "      <td>Midwest</td>\n",
       "    </tr>\n",
       "    <tr>\n",
       "      <th>18</th>\n",
       "      <td>Illinois</td>\n",
       "      <td>Midwest</td>\n",
       "    </tr>\n",
       "    <tr>\n",
       "      <th>19</th>\n",
       "      <td>Indiana</td>\n",
       "      <td>Midwest</td>\n",
       "    </tr>\n",
       "    <tr>\n",
       "      <th>20</th>\n",
       "      <td>Ohio</td>\n",
       "      <td>Midwest</td>\n",
       "    </tr>\n",
       "    <tr>\n",
       "      <th>21</th>\n",
       "      <td>Delaware</td>\n",
       "      <td>South</td>\n",
       "    </tr>\n",
       "    <tr>\n",
       "      <th>22</th>\n",
       "      <td>Maryland</td>\n",
       "      <td>South</td>\n",
       "    </tr>\n",
       "    <tr>\n",
       "      <th>23</th>\n",
       "      <td>District of Columbia</td>\n",
       "      <td>South</td>\n",
       "    </tr>\n",
       "    <tr>\n",
       "      <th>24</th>\n",
       "      <td>Virginia</td>\n",
       "      <td>South</td>\n",
       "    </tr>\n",
       "    <tr>\n",
       "      <th>25</th>\n",
       "      <td>West Virginia</td>\n",
       "      <td>South</td>\n",
       "    </tr>\n",
       "    <tr>\n",
       "      <th>26</th>\n",
       "      <td>North Carolina</td>\n",
       "      <td>South</td>\n",
       "    </tr>\n",
       "    <tr>\n",
       "      <th>27</th>\n",
       "      <td>South Carolina</td>\n",
       "      <td>South</td>\n",
       "    </tr>\n",
       "    <tr>\n",
       "      <th>28</th>\n",
       "      <td>Georgia</td>\n",
       "      <td>South</td>\n",
       "    </tr>\n",
       "    <tr>\n",
       "      <th>29</th>\n",
       "      <td>Florida</td>\n",
       "      <td>South</td>\n",
       "    </tr>\n",
       "    <tr>\n",
       "      <th>30</th>\n",
       "      <td>Kentucky</td>\n",
       "      <td>South</td>\n",
       "    </tr>\n",
       "    <tr>\n",
       "      <th>31</th>\n",
       "      <td>Tennessee</td>\n",
       "      <td>South</td>\n",
       "    </tr>\n",
       "    <tr>\n",
       "      <th>32</th>\n",
       "      <td>Mississippi</td>\n",
       "      <td>South</td>\n",
       "    </tr>\n",
       "    <tr>\n",
       "      <th>33</th>\n",
       "      <td>Alabama</td>\n",
       "      <td>South</td>\n",
       "    </tr>\n",
       "    <tr>\n",
       "      <th>34</th>\n",
       "      <td>Oklahoma</td>\n",
       "      <td>South</td>\n",
       "    </tr>\n",
       "    <tr>\n",
       "      <th>35</th>\n",
       "      <td>Texas</td>\n",
       "      <td>South</td>\n",
       "    </tr>\n",
       "    <tr>\n",
       "      <th>36</th>\n",
       "      <td>Arkansas</td>\n",
       "      <td>South</td>\n",
       "    </tr>\n",
       "    <tr>\n",
       "      <th>37</th>\n",
       "      <td>Louisiana</td>\n",
       "      <td>South</td>\n",
       "    </tr>\n",
       "    <tr>\n",
       "      <th>38</th>\n",
       "      <td>Idaho</td>\n",
       "      <td>West</td>\n",
       "    </tr>\n",
       "    <tr>\n",
       "      <th>39</th>\n",
       "      <td>Montana</td>\n",
       "      <td>West</td>\n",
       "    </tr>\n",
       "    <tr>\n",
       "      <th>40</th>\n",
       "      <td>Wyoming</td>\n",
       "      <td>West</td>\n",
       "    </tr>\n",
       "    <tr>\n",
       "      <th>41</th>\n",
       "      <td>Nevada</td>\n",
       "      <td>West</td>\n",
       "    </tr>\n",
       "    <tr>\n",
       "      <th>42</th>\n",
       "      <td>Utah</td>\n",
       "      <td>West</td>\n",
       "    </tr>\n",
       "    <tr>\n",
       "      <th>43</th>\n",
       "      <td>Colorado</td>\n",
       "      <td>West</td>\n",
       "    </tr>\n",
       "    <tr>\n",
       "      <th>44</th>\n",
       "      <td>Arizona</td>\n",
       "      <td>West</td>\n",
       "    </tr>\n",
       "    <tr>\n",
       "      <th>45</th>\n",
       "      <td>New Mexico</td>\n",
       "      <td>West</td>\n",
       "    </tr>\n",
       "    <tr>\n",
       "      <th>46</th>\n",
       "      <td>Alaska</td>\n",
       "      <td>West</td>\n",
       "    </tr>\n",
       "    <tr>\n",
       "      <th>47</th>\n",
       "      <td>Washington</td>\n",
       "      <td>West</td>\n",
       "    </tr>\n",
       "    <tr>\n",
       "      <th>48</th>\n",
       "      <td>Oregon</td>\n",
       "      <td>West</td>\n",
       "    </tr>\n",
       "    <tr>\n",
       "      <th>49</th>\n",
       "      <td>California</td>\n",
       "      <td>West</td>\n",
       "    </tr>\n",
       "    <tr>\n",
       "      <th>50</th>\n",
       "      <td>Hawaii</td>\n",
       "      <td>West</td>\n",
       "    </tr>\n",
       "  </tbody>\n",
       "</table>\n",
       "</div>"
      ],
      "text/plain": [
       "          customer_state customer_region\n",
       "0                  Maine       Northeast\n",
       "1          New Hampshire       Northeast\n",
       "2                Vermont       Northeast\n",
       "3          Massachusetts       Northeast\n",
       "4           Rhode Island       Northeast\n",
       "5            Connecticut       Northeast\n",
       "6               New York       Northeast\n",
       "7           Pennsylvania       Northeast\n",
       "8             New Jersey       Northeast\n",
       "9           North Dakota         Midwest\n",
       "10          South Dakota         Midwest\n",
       "11              Nebraska         Midwest\n",
       "12                Kansas         Midwest\n",
       "13             Minnesota         Midwest\n",
       "14                  Iowa         Midwest\n",
       "15              Missouri         Midwest\n",
       "16             Wisconsin         Midwest\n",
       "17              Michigan         Midwest\n",
       "18              Illinois         Midwest\n",
       "19               Indiana         Midwest\n",
       "20                  Ohio         Midwest\n",
       "21              Delaware           South\n",
       "22              Maryland           South\n",
       "23  District of Columbia           South\n",
       "24              Virginia           South\n",
       "25         West Virginia           South\n",
       "26        North Carolina           South\n",
       "27        South Carolina           South\n",
       "28               Georgia           South\n",
       "29               Florida           South\n",
       "30              Kentucky           South\n",
       "31             Tennessee           South\n",
       "32           Mississippi           South\n",
       "33               Alabama           South\n",
       "34              Oklahoma           South\n",
       "35                 Texas           South\n",
       "36              Arkansas           South\n",
       "37             Louisiana           South\n",
       "38                 Idaho            West\n",
       "39               Montana            West\n",
       "40               Wyoming            West\n",
       "41                Nevada            West\n",
       "42                  Utah            West\n",
       "43              Colorado            West\n",
       "44               Arizona            West\n",
       "45            New Mexico            West\n",
       "46                Alaska            West\n",
       "47            Washington            West\n",
       "48                Oregon            West\n",
       "49            California            West\n",
       "50                Hawaii            West"
      ]
     },
     "execution_count": 12,
     "metadata": {},
     "output_type": "execute_result"
    }
   ],
   "source": [
    "states_regions"
   ]
  },
  {
   "cell_type": "code",
   "execution_count": 13,
   "id": "35618f14",
   "metadata": {},
   "outputs": [],
   "source": [
    "# Merge states_regions df with cust_ords_prods df to create regional segmentation of the customer data\n",
    "\n",
    "cust_ords_prods = cust_ords_prods.merge(states_regions, on='customer_state', how='left')"
   ]
  },
  {
   "cell_type": "code",
   "execution_count": 14,
   "id": "38ffc535",
   "metadata": {
    "scrolled": true
   },
   "outputs": [
    {
     "data": {
      "text/plain": [
       "customer_region\n",
       "South        10791885\n",
       "West          8292913\n",
       "Midwest       7597325\n",
       "Northeast     5722736\n",
       "Name: count, dtype: int64"
      ]
     },
     "execution_count": 14,
     "metadata": {},
     "output_type": "execute_result"
    }
   ],
   "source": [
    "# Check frequency count of any NULL values or errors for new column 'customer_region'\n",
    "\n",
    "cust_ords_prods['customer_region'].value_counts(dropna=False)"
   ]
  },
  {
   "cell_type": "code",
   "execution_count": 15,
   "id": "42c86499",
   "metadata": {},
   "outputs": [
    {
     "data": {
      "text/plain": [
       "Index(['order_id', 'user_id', 'order_number', 'orders_day_of_week',\n",
       "       'order_hour_of_day', 'days_since_prior_order', 'first_order',\n",
       "       'product_id', 'add_to_cart_order', 'reordered', 'product_name',\n",
       "       'aisle_id', 'department_id', 'prices', 'price_range_loc',\n",
       "       'busiest_days', 'busiest_period_of_day', 'max_order', 'loyalty_flag',\n",
       "       'avg_item_price', 'spending_flag', 'median_days_since_prior_order',\n",
       "       'frequency_flag', 'customer_gender', 'customer_state', 'customer_age',\n",
       "       'date_joined', 'customer_number_of_dependents',\n",
       "       'customer_family_status', 'customer_income', 'customer_region'],\n",
       "      dtype='object')"
      ]
     },
     "execution_count": 15,
     "metadata": {},
     "output_type": "execute_result"
    }
   ],
   "source": [
    "cust_ords_prods.columns"
   ]
  },
  {
   "cell_type": "code",
   "execution_count": 16,
   "id": "ff691842",
   "metadata": {},
   "outputs": [],
   "source": [
    "# Reorder columns for customer state and customer region to be next to each other\n",
    "\n",
    "cust_ords_prods = cust_ords_prods[['order_id', 'user_id', 'order_number', 'orders_day_of_week',\n",
    "       'order_hour_of_day', 'days_since_prior_order', 'first_order',\n",
    "       'product_id', 'add_to_cart_order', 'reordered', 'product_name',\n",
    "       'aisle_id', 'department_id', 'prices', 'price_range_loc',\n",
    "       'busiest_days', 'busiest_period_of_day', 'max_order', 'loyalty_flag',\n",
    "       'avg_item_price', 'spending_flag', 'median_days_since_prior_order',\n",
    "       'frequency_flag', 'customer_gender', 'customer_state', 'customer_region', 'customer_age',\n",
    "       'date_joined', 'customer_number_of_dependents',\n",
    "       'customer_family_status', 'customer_income']]"
   ]
  },
  {
   "cell_type": "code",
   "execution_count": 17,
   "id": "f0f1c99d",
   "metadata": {},
   "outputs": [
    {
     "data": {
      "text/plain": [
       "(32404859, 31)"
      ]
     },
     "execution_count": 17,
     "metadata": {},
     "output_type": "execute_result"
    }
   ],
   "source": [
    "cust_ords_prods.shape"
   ]
  },
  {
   "cell_type": "code",
   "execution_count": 18,
   "id": "f6b83ba6",
   "metadata": {},
   "outputs": [
    {
     "data": {
      "text/html": [
       "<div>\n",
       "<style scoped>\n",
       "    .dataframe tbody tr th:only-of-type {\n",
       "        vertical-align: middle;\n",
       "    }\n",
       "\n",
       "    .dataframe tbody tr th {\n",
       "        vertical-align: top;\n",
       "    }\n",
       "\n",
       "    .dataframe thead th {\n",
       "        text-align: right;\n",
       "    }\n",
       "</style>\n",
       "<table border=\"1\" class=\"dataframe\">\n",
       "  <thead>\n",
       "    <tr style=\"text-align: right;\">\n",
       "      <th></th>\n",
       "      <th>spending_flag</th>\n",
       "      <th>customer_region</th>\n",
       "    </tr>\n",
       "  </thead>\n",
       "  <tbody>\n",
       "    <tr>\n",
       "      <th>0</th>\n",
       "      <td>Low Spender</td>\n",
       "      <td>South</td>\n",
       "    </tr>\n",
       "    <tr>\n",
       "      <th>1</th>\n",
       "      <td>Low Spender</td>\n",
       "      <td>South</td>\n",
       "    </tr>\n",
       "    <tr>\n",
       "      <th>2</th>\n",
       "      <td>Low Spender</td>\n",
       "      <td>South</td>\n",
       "    </tr>\n",
       "    <tr>\n",
       "      <th>3</th>\n",
       "      <td>Low Spender</td>\n",
       "      <td>South</td>\n",
       "    </tr>\n",
       "    <tr>\n",
       "      <th>4</th>\n",
       "      <td>Low Spender</td>\n",
       "      <td>South</td>\n",
       "    </tr>\n",
       "  </tbody>\n",
       "</table>\n",
       "</div>"
      ],
      "text/plain": [
       "  spending_flag customer_region\n",
       "0   Low Spender           South\n",
       "1   Low Spender           South\n",
       "2   Low Spender           South\n",
       "3   Low Spender           South\n",
       "4   Low Spender           South"
      ]
     },
     "execution_count": 18,
     "metadata": {},
     "output_type": "execute_result"
    }
   ],
   "source": [
    "cust_ords_prods[['spending_flag', 'customer_region']].head()"
   ]
  },
  {
   "cell_type": "code",
   "execution_count": 19,
   "id": "e232dfc5",
   "metadata": {},
   "outputs": [],
   "source": [
    "regional_spending_crosstab = pd.crosstab(cust_ords_prods['spending_flag'], cust_ords_prods['customer_region'], dropna=False)"
   ]
  },
  {
   "cell_type": "code",
   "execution_count": 20,
   "id": "2e8b207e",
   "metadata": {},
   "outputs": [
    {
     "data": {
      "text/html": [
       "<div>\n",
       "<style scoped>\n",
       "    .dataframe tbody tr th:only-of-type {\n",
       "        vertical-align: middle;\n",
       "    }\n",
       "\n",
       "    .dataframe tbody tr th {\n",
       "        vertical-align: top;\n",
       "    }\n",
       "\n",
       "    .dataframe thead th {\n",
       "        text-align: right;\n",
       "    }\n",
       "</style>\n",
       "<table border=\"1\" class=\"dataframe\">\n",
       "  <thead>\n",
       "    <tr style=\"text-align: right;\">\n",
       "      <th>customer_region</th>\n",
       "      <th>Midwest</th>\n",
       "      <th>Northeast</th>\n",
       "      <th>South</th>\n",
       "      <th>West</th>\n",
       "    </tr>\n",
       "    <tr>\n",
       "      <th>spending_flag</th>\n",
       "      <th></th>\n",
       "      <th></th>\n",
       "      <th></th>\n",
       "      <th></th>\n",
       "    </tr>\n",
       "  </thead>\n",
       "  <tbody>\n",
       "    <tr>\n",
       "      <th>High Spender</th>\n",
       "      <td>155975</td>\n",
       "      <td>108225</td>\n",
       "      <td>209691</td>\n",
       "      <td>160354</td>\n",
       "    </tr>\n",
       "    <tr>\n",
       "      <th>Low Spender</th>\n",
       "      <td>7441350</td>\n",
       "      <td>5614511</td>\n",
       "      <td>10582194</td>\n",
       "      <td>8132559</td>\n",
       "    </tr>\n",
       "  </tbody>\n",
       "</table>\n",
       "</div>"
      ],
      "text/plain": [
       "customer_region  Midwest  Northeast     South     West\n",
       "spending_flag                                         \n",
       "High Spender      155975     108225    209691   160354\n",
       "Low Spender      7441350    5614511  10582194  8132559"
      ]
     },
     "execution_count": 20,
     "metadata": {},
     "output_type": "execute_result"
    }
   ],
   "source": [
    "regional_spending_crosstab"
   ]
  },
  {
   "cell_type": "markdown",
   "id": "22d80ff1",
   "metadata": {},
   "source": [
    "#### 4. The Instacart CFO isn’t interested in customers who don’t generate much revenue for the app. Create an exclusion flag for low-activity customers (customers with less than 5 orders) and exclude them from the data. Make sure you export this sample."
   ]
  },
  {
   "cell_type": "code",
   "execution_count": 21,
   "id": "ab168a60",
   "metadata": {},
   "outputs": [],
   "source": [
    "# Create exclusion flag 'customer_activity' to find low-activity customers who have less than 5 orders"
   ]
  },
  {
   "cell_type": "code",
   "execution_count": 22,
   "id": "ad9162b7",
   "metadata": {},
   "outputs": [
    {
     "data": {
      "text/plain": [
       "max_order\n",
       "99    1171333\n",
       "8      811843\n",
       "6      811396\n",
       "9      810213\n",
       "7      803979\n",
       "       ...   \n",
       "97      44949\n",
       "98      44587\n",
       "96      40453\n",
       "2           6\n",
       "1           5\n",
       "Name: count, Length: 99, dtype: int64"
      ]
     },
     "execution_count": 22,
     "metadata": {},
     "output_type": "execute_result"
    }
   ],
   "source": [
    "# Look at frequency count of customers' max order\n",
    "\n",
    "cust_ords_prods['max_order'].value_counts(dropna=False)"
   ]
  },
  {
   "cell_type": "code",
   "execution_count": 23,
   "id": "5ac2a218",
   "metadata": {},
   "outputs": [
    {
     "name": "stderr",
     "output_type": "stream",
     "text": [
      "/var/folders/rh/wj0j2y0n7j1_m28h5wbms8q00000gn/T/ipykernel_18678/3431691107.py:5: FutureWarning: Setting an item of incompatible dtype is deprecated and will raise in a future error of pandas. Value 'normal' has dtype incompatible with float64, please explicitly cast to a compatible dtype first.\n",
      "  cust_ords_prods.loc[cust_ords_prods['max_order'] >= 5, 'customer_activity'] = 'normal'\n"
     ]
    }
   ],
   "source": [
    "# Create conditions\n",
    "\n",
    "# If 'max_order' is 5 or higher, value in 'customer_activity' will be 'normal'\n",
    "\n",
    "cust_ords_prods.loc[cust_ords_prods['max_order'] >= 5, 'customer_activity'] = 'normal'"
   ]
  },
  {
   "cell_type": "code",
   "execution_count": 24,
   "id": "ddecc7ea",
   "metadata": {},
   "outputs": [],
   "source": [
    "# Create conditions\n",
    "\n",
    "# If 'max_order' is less than 5, value in 'customer_activity' will be 'low'\n",
    "\n",
    "cust_ords_prods.loc[cust_ords_prods['max_order'] < 5, 'customer_activity'] = 'low'"
   ]
  },
  {
   "cell_type": "code",
   "execution_count": 25,
   "id": "10f0f9ad",
   "metadata": {
    "scrolled": true
   },
   "outputs": [
    {
     "data": {
      "text/plain": [
       "customer_activity\n",
       "normal    30964564\n",
       "low        1440295\n",
       "Name: count, dtype: int64"
      ]
     },
     "execution_count": 25,
     "metadata": {},
     "output_type": "execute_result"
    }
   ],
   "source": [
    "# Check value frequency for 'customer_activity' column\n",
    "\n",
    "cust_ords_prods['customer_activity'].value_counts(dropna=False)"
   ]
  },
  {
   "cell_type": "code",
   "execution_count": 26,
   "id": "9986f222",
   "metadata": {},
   "outputs": [],
   "source": [
    "# Create subset of customer data where 'customer_activity' == 'normal' (5 or more orders)\n",
    "\n",
    "active_cust_ords_prods = cust_ords_prods.loc[cust_ords_prods['customer_activity'] == 'normal']"
   ]
  },
  {
   "cell_type": "code",
   "execution_count": 27,
   "id": "19940ebc",
   "metadata": {},
   "outputs": [
    {
     "data": {
      "text/plain": [
       "customer_activity\n",
       "normal    30964564\n",
       "Name: count, dtype: int64"
      ]
     },
     "execution_count": 27,
     "metadata": {},
     "output_type": "execute_result"
    }
   ],
   "source": [
    "# Check value counts for customer_activity column\n",
    "\n",
    "active_cust_ords_prods['customer_activity'].value_counts(dropna=False)"
   ]
  },
  {
   "cell_type": "code",
   "execution_count": 28,
   "id": "2857c994",
   "metadata": {},
   "outputs": [],
   "source": [
    "# Create subset of customer data where 'customer_activity' == 'low' (less than 5 orders)\n",
    "\n",
    "low_activity_cust_ords_prods = cust_ords_prods.loc[cust_ords_prods['customer_activity'] == 'low']"
   ]
  },
  {
   "cell_type": "code",
   "execution_count": 29,
   "id": "955fccda",
   "metadata": {},
   "outputs": [
    {
     "data": {
      "text/plain": [
       "customer_activity\n",
       "low    1440295\n",
       "Name: count, dtype: int64"
      ]
     },
     "execution_count": 29,
     "metadata": {},
     "output_type": "execute_result"
    }
   ],
   "source": [
    "# Check value counts for customer_activity column\n",
    "\n",
    "low_activity_cust_ords_prods['customer_activity'].value_counts(dropna=False)"
   ]
  },
  {
   "cell_type": "code",
   "execution_count": 30,
   "id": "b28fab71",
   "metadata": {},
   "outputs": [],
   "source": [
    "# Export subset of customer data where customer activity is low\n",
    "\n",
    "# Export low_activity_cust_ords_prods as pickle file low_activity_customers_orders_products.pkl\n",
    "\n",
    "low_activity_cust_ords_prods.to_pickle(os.path.join(path, '02 Data','Prepared Data', 'low_activity_customers_orders_products.pkl'))"
   ]
  },
  {
   "cell_type": "markdown",
   "id": "8b96a0b4",
   "metadata": {},
   "source": [
    "#### 5. The marketing and business strategy units at Instacart want to create more-relevant marketing strategies for different products and are, thus, curious about customer profiling in their database. Create a profiling variable based on age, income, certain goods in the “department_id” column, and number of dependents. You might also use the “orders_day_of_the_week” and “order_hour_of_day” columns if you can think of a way they would impact customer profiles. (Hint: As an example, try thinking of what characteristics would lead you to the profile “Single adult” or “Young parent.”)\n"
   ]
  },
  {
   "cell_type": "code",
   "execution_count": 31,
   "id": "ee20ada8",
   "metadata": {},
   "outputs": [],
   "source": [
    "# Using active_cust_ords_prods as dataframe for future analysis"
   ]
  },
  {
   "cell_type": "code",
   "execution_count": 32,
   "id": "3e18989b",
   "metadata": {},
   "outputs": [
    {
     "data": {
      "text/plain": [
       "count    3.096456e+07\n",
       "mean     4.946803e+01\n",
       "std      1.848528e+01\n",
       "min      1.800000e+01\n",
       "25%      3.300000e+01\n",
       "50%      4.900000e+01\n",
       "75%      6.500000e+01\n",
       "max      8.100000e+01\n",
       "Name: customer_age, dtype: float64"
      ]
     },
     "execution_count": 32,
     "metadata": {},
     "output_type": "execute_result"
    }
   ],
   "source": [
    "# Create profiling variable based on age\n",
    "\n",
    "# Look at customer age column characterisitics\n",
    "\n",
    "active_cust_ords_prods['customer_age'].describe()"
   ]
  },
  {
   "cell_type": "code",
   "execution_count": 33,
   "id": "b58a3fa0",
   "metadata": {},
   "outputs": [],
   "source": [
    "# Create 4 customer age categories 'age_group'"
   ]
  },
  {
   "cell_type": "code",
   "execution_count": 34,
   "id": "f882f750",
   "metadata": {
    "scrolled": true
   },
   "outputs": [
    {
     "name": "stderr",
     "output_type": "stream",
     "text": [
      "/var/folders/rh/wj0j2y0n7j1_m28h5wbms8q00000gn/T/ipykernel_18678/3829330634.py:3: SettingWithCopyWarning: \n",
      "A value is trying to be set on a copy of a slice from a DataFrame.\n",
      "Try using .loc[row_indexer,col_indexer] = value instead\n",
      "\n",
      "See the caveats in the documentation: https://pandas.pydata.org/pandas-docs/stable/user_guide/indexing.html#returning-a-view-versus-a-copy\n",
      "  active_cust_ords_prods.loc[(active_cust_ords_prods['customer_age'] >=18) & (active_cust_ords_prods['customer_age'] <= 33), 'age_group'] = '18-33'\n",
      "/var/folders/rh/wj0j2y0n7j1_m28h5wbms8q00000gn/T/ipykernel_18678/3829330634.py:3: FutureWarning: Setting an item of incompatible dtype is deprecated and will raise in a future error of pandas. Value '18-33' has dtype incompatible with float64, please explicitly cast to a compatible dtype first.\n",
      "  active_cust_ords_prods.loc[(active_cust_ords_prods['customer_age'] >=18) & (active_cust_ords_prods['customer_age'] <= 33), 'age_group'] = '18-33'\n"
     ]
    }
   ],
   "source": [
    "# If customer age is between 18-33, set value of age group to '18-33'\n",
    "\n",
    "active_cust_ords_prods.loc[(active_cust_ords_prods['customer_age'] >=18) & (active_cust_ords_prods['customer_age'] <= 33), 'age_group'] = '18-33'"
   ]
  },
  {
   "cell_type": "code",
   "execution_count": 35,
   "id": "0673f14c",
   "metadata": {},
   "outputs": [],
   "source": [
    "# If customer age is between 34-49, set value of age group to '34-49'\n",
    "\n",
    "active_cust_ords_prods.loc[(active_cust_ords_prods['customer_age'] >=34) & (active_cust_ords_prods['customer_age'] <= 49), 'age_group'] = '34-49'"
   ]
  },
  {
   "cell_type": "code",
   "execution_count": 36,
   "id": "a19a5f9a",
   "metadata": {},
   "outputs": [],
   "source": [
    "# If customer age is between 50-65, set value of age group to '50-65'\n",
    "\n",
    "active_cust_ords_prods.loc[(active_cust_ords_prods['customer_age'] >=50) & (active_cust_ords_prods['customer_age'] <= 65), 'age_group'] = '50-65'"
   ]
  },
  {
   "cell_type": "code",
   "execution_count": 37,
   "id": "2dfb4f03",
   "metadata": {},
   "outputs": [],
   "source": [
    "# If customer age is between 66-81, set value of age group to '66-81'\n",
    "\n",
    "active_cust_ords_prods.loc[(active_cust_ords_prods['customer_age'] >=66) & (active_cust_ords_prods['customer_age'] <= 81), 'age_group'] = '66-81'"
   ]
  },
  {
   "cell_type": "code",
   "execution_count": 38,
   "id": "e8494354",
   "metadata": {},
   "outputs": [
    {
     "data": {
      "text/plain": [
       "age_group\n",
       "34-49    7790824\n",
       "18-33    7757465\n",
       "66-81    7730834\n",
       "50-65    7685441\n",
       "Name: count, dtype: int64"
      ]
     },
     "execution_count": 38,
     "metadata": {},
     "output_type": "execute_result"
    }
   ],
   "source": [
    "# Check value counts for age_group\n",
    "\n",
    "active_cust_ords_prods['age_group'].value_counts(dropna=False)"
   ]
  },
  {
   "cell_type": "code",
   "execution_count": 39,
   "id": "1aa10fcf",
   "metadata": {},
   "outputs": [
    {
     "data": {
      "text/plain": [
       "count    3.096456e+07\n",
       "mean     9.967587e+04\n",
       "std      4.314187e+04\n",
       "min      2.590300e+04\n",
       "25%      6.729200e+04\n",
       "50%      9.676500e+04\n",
       "75%      1.281020e+05\n",
       "max      5.939010e+05\n",
       "Name: customer_income, dtype: float64"
      ]
     },
     "execution_count": 39,
     "metadata": {},
     "output_type": "execute_result"
    }
   ],
   "source": [
    "# Create profiling variable based on customer income\n",
    "\n",
    "# Look at customer income column characterisitics\n",
    "\n",
    "active_cust_ords_prods['customer_income'].describe()"
   ]
  },
  {
   "cell_type": "code",
   "execution_count": 40,
   "id": "f8f54541",
   "metadata": {},
   "outputs": [],
   "source": [
    "# Create customer income category to designate customer income as low(min-25%), moderate(25-75%), and high(75%-max)"
   ]
  },
  {
   "cell_type": "code",
   "execution_count": 41,
   "id": "2892f44c",
   "metadata": {
    "scrolled": true
   },
   "outputs": [
    {
     "name": "stderr",
     "output_type": "stream",
     "text": [
      "/var/folders/rh/wj0j2y0n7j1_m28h5wbms8q00000gn/T/ipykernel_18678/2112519291.py:3: SettingWithCopyWarning: \n",
      "A value is trying to be set on a copy of a slice from a DataFrame.\n",
      "Try using .loc[row_indexer,col_indexer] = value instead\n",
      "\n",
      "See the caveats in the documentation: https://pandas.pydata.org/pandas-docs/stable/user_guide/indexing.html#returning-a-view-versus-a-copy\n",
      "  active_cust_ords_prods.loc[active_cust_ords_prods['customer_income'] <= 67292, 'income_group'] = 'low'\n",
      "/var/folders/rh/wj0j2y0n7j1_m28h5wbms8q00000gn/T/ipykernel_18678/2112519291.py:3: FutureWarning: Setting an item of incompatible dtype is deprecated and will raise in a future error of pandas. Value 'low' has dtype incompatible with float64, please explicitly cast to a compatible dtype first.\n",
      "  active_cust_ords_prods.loc[active_cust_ords_prods['customer_income'] <= 67292, 'income_group'] = 'low'\n"
     ]
    }
   ],
   "source": [
    "# If customer income is 67,292 or less, set value of income group to 'low'\n",
    "\n",
    "active_cust_ords_prods.loc[active_cust_ords_prods['customer_income'] <= 67292, 'income_group'] = 'low'"
   ]
  },
  {
   "cell_type": "code",
   "execution_count": 42,
   "id": "173c3075",
   "metadata": {},
   "outputs": [],
   "source": [
    "# If customer income is more than 67,292 and less than 128,102, set value of income group to 'moderate'\n",
    "\n",
    "active_cust_ords_prods.loc[(active_cust_ords_prods['customer_income'] > 67292) & (active_cust_ords_prods['customer_income'] < 128102), 'income_group'] = 'moderate'"
   ]
  },
  {
   "cell_type": "code",
   "execution_count": 43,
   "id": "16411a02",
   "metadata": {},
   "outputs": [],
   "source": [
    "# If customer income is 128,102 or more, set value of income group to 'high'\n",
    "\n",
    "active_cust_ords_prods.loc[active_cust_ords_prods['customer_income'] >= 128102, 'income_group'] = 'high'"
   ]
  },
  {
   "cell_type": "code",
   "execution_count": 44,
   "id": "35960c39",
   "metadata": {
    "scrolled": true
   },
   "outputs": [
    {
     "data": {
      "text/plain": [
       "income_group\n",
       "moderate    15481955\n",
       "low          7741348\n",
       "high         7741261\n",
       "Name: count, dtype: int64"
      ]
     },
     "execution_count": 44,
     "metadata": {},
     "output_type": "execute_result"
    }
   ],
   "source": [
    "# Check value counts for income_group\n",
    "\n",
    "active_cust_ords_prods['income_group'].value_counts(dropna=False)"
   ]
  },
  {
   "cell_type": "code",
   "execution_count": 45,
   "id": "a2f2e016",
   "metadata": {},
   "outputs": [],
   "source": [
    "# Create profiling variable based on department\n",
    "\n",
    "# Look at department column characterisitics"
   ]
  },
  {
   "cell_type": "code",
   "execution_count": 46,
   "id": "f3da8d1f",
   "metadata": {},
   "outputs": [
    {
     "data": {
      "text/plain": [
       "Index(['order_id', 'user_id', 'order_number', 'orders_day_of_week',\n",
       "       'order_hour_of_day', 'days_since_prior_order', 'first_order',\n",
       "       'product_id', 'add_to_cart_order', 'reordered', 'product_name',\n",
       "       'aisle_id', 'department_id', 'prices', 'price_range_loc',\n",
       "       'busiest_days', 'busiest_period_of_day', 'max_order', 'loyalty_flag',\n",
       "       'avg_item_price', 'spending_flag', 'median_days_since_prior_order',\n",
       "       'frequency_flag', 'customer_gender', 'customer_state',\n",
       "       'customer_region', 'customer_age', 'date_joined',\n",
       "       'customer_number_of_dependents', 'customer_family_status',\n",
       "       'customer_income', 'customer_activity', 'age_group', 'income_group'],\n",
       "      dtype='object')"
      ]
     },
     "execution_count": 46,
     "metadata": {},
     "output_type": "execute_result"
    }
   ],
   "source": [
    "active_cust_ords_prods.columns"
   ]
  },
  {
   "cell_type": "code",
   "execution_count": 47,
   "id": "cfa96054",
   "metadata": {},
   "outputs": [
    {
     "data": {
      "text/plain": [
       "department_id\n",
       "4     9079273\n",
       "16    5177182\n",
       "19    2766406\n",
       "7     2571901\n",
       "1     2121731\n",
       "13    1782705\n",
       "3     1120828\n",
       "15    1012074\n",
       "20    1003834\n",
       "9      822136\n",
       "17     699857\n",
       "12     674781\n",
       "14     670850\n",
       "11     424306\n",
       "18     410392\n",
       "6      255991\n",
       "5      144627\n",
       "8       93060\n",
       "21      64768\n",
       "2       34411\n",
       "10      33451\n",
       "Name: count, dtype: int64"
      ]
     },
     "execution_count": 47,
     "metadata": {},
     "output_type": "execute_result"
    }
   ],
   "source": [
    "active_cust_ords_prods['department_id'].value_counts(dropna=False)"
   ]
  },
  {
   "cell_type": "code",
   "execution_count": 48,
   "id": "6421676d",
   "metadata": {},
   "outputs": [],
   "source": [
    "departments = departments.rename(columns={'Unnamed: 0': 'department_id'})"
   ]
  },
  {
   "cell_type": "code",
   "execution_count": 49,
   "id": "4374d7cb",
   "metadata": {
    "scrolled": true
   },
   "outputs": [
    {
     "data": {
      "text/html": [
       "<div>\n",
       "<style scoped>\n",
       "    .dataframe tbody tr th:only-of-type {\n",
       "        vertical-align: middle;\n",
       "    }\n",
       "\n",
       "    .dataframe tbody tr th {\n",
       "        vertical-align: top;\n",
       "    }\n",
       "\n",
       "    .dataframe thead th {\n",
       "        text-align: right;\n",
       "    }\n",
       "</style>\n",
       "<table border=\"1\" class=\"dataframe\">\n",
       "  <thead>\n",
       "    <tr style=\"text-align: right;\">\n",
       "      <th></th>\n",
       "      <th>department_id</th>\n",
       "      <th>department</th>\n",
       "    </tr>\n",
       "  </thead>\n",
       "  <tbody>\n",
       "    <tr>\n",
       "      <th>0</th>\n",
       "      <td>1</td>\n",
       "      <td>frozen</td>\n",
       "    </tr>\n",
       "    <tr>\n",
       "      <th>1</th>\n",
       "      <td>2</td>\n",
       "      <td>other</td>\n",
       "    </tr>\n",
       "    <tr>\n",
       "      <th>2</th>\n",
       "      <td>3</td>\n",
       "      <td>bakery</td>\n",
       "    </tr>\n",
       "    <tr>\n",
       "      <th>3</th>\n",
       "      <td>4</td>\n",
       "      <td>produce</td>\n",
       "    </tr>\n",
       "    <tr>\n",
       "      <th>4</th>\n",
       "      <td>5</td>\n",
       "      <td>alcohol</td>\n",
       "    </tr>\n",
       "  </tbody>\n",
       "</table>\n",
       "</div>"
      ],
      "text/plain": [
       "   department_id department\n",
       "0              1     frozen\n",
       "1              2      other\n",
       "2              3     bakery\n",
       "3              4    produce\n",
       "4              5    alcohol"
      ]
     },
     "execution_count": 49,
     "metadata": {},
     "output_type": "execute_result"
    }
   ],
   "source": [
    "departments.head()"
   ]
  },
  {
   "cell_type": "code",
   "execution_count": 50,
   "id": "4f2914ec",
   "metadata": {
    "scrolled": true
   },
   "outputs": [],
   "source": [
    "# Merge department name into active_cust_ords_prods\n",
    "\n",
    "active_cust_ords_prods = active_cust_ords_prods.merge(departments, on='department_id', how='left')"
   ]
  },
  {
   "cell_type": "code",
   "execution_count": 51,
   "id": "7cccd696",
   "metadata": {
    "scrolled": false
   },
   "outputs": [
    {
     "data": {
      "text/html": [
       "<div>\n",
       "<style scoped>\n",
       "    .dataframe tbody tr th:only-of-type {\n",
       "        vertical-align: middle;\n",
       "    }\n",
       "\n",
       "    .dataframe tbody tr th {\n",
       "        vertical-align: top;\n",
       "    }\n",
       "\n",
       "    .dataframe thead th {\n",
       "        text-align: right;\n",
       "    }\n",
       "</style>\n",
       "<table border=\"1\" class=\"dataframe\">\n",
       "  <thead>\n",
       "    <tr style=\"text-align: right;\">\n",
       "      <th></th>\n",
       "      <th>order_id</th>\n",
       "      <th>user_id</th>\n",
       "      <th>order_number</th>\n",
       "      <th>orders_day_of_week</th>\n",
       "      <th>order_hour_of_day</th>\n",
       "      <th>days_since_prior_order</th>\n",
       "      <th>first_order</th>\n",
       "      <th>product_id</th>\n",
       "      <th>add_to_cart_order</th>\n",
       "      <th>reordered</th>\n",
       "      <th>...</th>\n",
       "      <th>customer_region</th>\n",
       "      <th>customer_age</th>\n",
       "      <th>date_joined</th>\n",
       "      <th>customer_number_of_dependents</th>\n",
       "      <th>customer_family_status</th>\n",
       "      <th>customer_income</th>\n",
       "      <th>customer_activity</th>\n",
       "      <th>age_group</th>\n",
       "      <th>income_group</th>\n",
       "      <th>department</th>\n",
       "    </tr>\n",
       "  </thead>\n",
       "  <tbody>\n",
       "    <tr>\n",
       "      <th>0</th>\n",
       "      <td>2539329</td>\n",
       "      <td>1</td>\n",
       "      <td>1</td>\n",
       "      <td>2</td>\n",
       "      <td>8</td>\n",
       "      <td>NaN</td>\n",
       "      <td>True</td>\n",
       "      <td>196</td>\n",
       "      <td>1</td>\n",
       "      <td>0</td>\n",
       "      <td>...</td>\n",
       "      <td>South</td>\n",
       "      <td>31</td>\n",
       "      <td>2/17/2019</td>\n",
       "      <td>3</td>\n",
       "      <td>married</td>\n",
       "      <td>40423</td>\n",
       "      <td>normal</td>\n",
       "      <td>18-33</td>\n",
       "      <td>low</td>\n",
       "      <td>beverages</td>\n",
       "    </tr>\n",
       "    <tr>\n",
       "      <th>1</th>\n",
       "      <td>2398795</td>\n",
       "      <td>1</td>\n",
       "      <td>2</td>\n",
       "      <td>3</td>\n",
       "      <td>7</td>\n",
       "      <td>15.0</td>\n",
       "      <td>False</td>\n",
       "      <td>196</td>\n",
       "      <td>1</td>\n",
       "      <td>1</td>\n",
       "      <td>...</td>\n",
       "      <td>South</td>\n",
       "      <td>31</td>\n",
       "      <td>2/17/2019</td>\n",
       "      <td>3</td>\n",
       "      <td>married</td>\n",
       "      <td>40423</td>\n",
       "      <td>normal</td>\n",
       "      <td>18-33</td>\n",
       "      <td>low</td>\n",
       "      <td>beverages</td>\n",
       "    </tr>\n",
       "    <tr>\n",
       "      <th>2</th>\n",
       "      <td>473747</td>\n",
       "      <td>1</td>\n",
       "      <td>3</td>\n",
       "      <td>3</td>\n",
       "      <td>12</td>\n",
       "      <td>21.0</td>\n",
       "      <td>False</td>\n",
       "      <td>196</td>\n",
       "      <td>1</td>\n",
       "      <td>1</td>\n",
       "      <td>...</td>\n",
       "      <td>South</td>\n",
       "      <td>31</td>\n",
       "      <td>2/17/2019</td>\n",
       "      <td>3</td>\n",
       "      <td>married</td>\n",
       "      <td>40423</td>\n",
       "      <td>normal</td>\n",
       "      <td>18-33</td>\n",
       "      <td>low</td>\n",
       "      <td>beverages</td>\n",
       "    </tr>\n",
       "    <tr>\n",
       "      <th>3</th>\n",
       "      <td>2254736</td>\n",
       "      <td>1</td>\n",
       "      <td>4</td>\n",
       "      <td>4</td>\n",
       "      <td>7</td>\n",
       "      <td>29.0</td>\n",
       "      <td>False</td>\n",
       "      <td>196</td>\n",
       "      <td>1</td>\n",
       "      <td>1</td>\n",
       "      <td>...</td>\n",
       "      <td>South</td>\n",
       "      <td>31</td>\n",
       "      <td>2/17/2019</td>\n",
       "      <td>3</td>\n",
       "      <td>married</td>\n",
       "      <td>40423</td>\n",
       "      <td>normal</td>\n",
       "      <td>18-33</td>\n",
       "      <td>low</td>\n",
       "      <td>beverages</td>\n",
       "    </tr>\n",
       "    <tr>\n",
       "      <th>4</th>\n",
       "      <td>431534</td>\n",
       "      <td>1</td>\n",
       "      <td>5</td>\n",
       "      <td>4</td>\n",
       "      <td>15</td>\n",
       "      <td>28.0</td>\n",
       "      <td>False</td>\n",
       "      <td>196</td>\n",
       "      <td>1</td>\n",
       "      <td>1</td>\n",
       "      <td>...</td>\n",
       "      <td>South</td>\n",
       "      <td>31</td>\n",
       "      <td>2/17/2019</td>\n",
       "      <td>3</td>\n",
       "      <td>married</td>\n",
       "      <td>40423</td>\n",
       "      <td>normal</td>\n",
       "      <td>18-33</td>\n",
       "      <td>low</td>\n",
       "      <td>beverages</td>\n",
       "    </tr>\n",
       "  </tbody>\n",
       "</table>\n",
       "<p>5 rows × 35 columns</p>\n",
       "</div>"
      ],
      "text/plain": [
       "   order_id  user_id  order_number  orders_day_of_week  order_hour_of_day  \\\n",
       "0   2539329        1             1                   2                  8   \n",
       "1   2398795        1             2                   3                  7   \n",
       "2    473747        1             3                   3                 12   \n",
       "3   2254736        1             4                   4                  7   \n",
       "4    431534        1             5                   4                 15   \n",
       "\n",
       "   days_since_prior_order  first_order  product_id  add_to_cart_order  \\\n",
       "0                     NaN         True         196                  1   \n",
       "1                    15.0        False         196                  1   \n",
       "2                    21.0        False         196                  1   \n",
       "3                    29.0        False         196                  1   \n",
       "4                    28.0        False         196                  1   \n",
       "\n",
       "   reordered  ... customer_region  customer_age  date_joined  \\\n",
       "0          0  ...           South            31    2/17/2019   \n",
       "1          1  ...           South            31    2/17/2019   \n",
       "2          1  ...           South            31    2/17/2019   \n",
       "3          1  ...           South            31    2/17/2019   \n",
       "4          1  ...           South            31    2/17/2019   \n",
       "\n",
       "   customer_number_of_dependents customer_family_status customer_income  \\\n",
       "0                              3                married           40423   \n",
       "1                              3                married           40423   \n",
       "2                              3                married           40423   \n",
       "3                              3                married           40423   \n",
       "4                              3                married           40423   \n",
       "\n",
       "  customer_activity  age_group income_group  department  \n",
       "0            normal      18-33          low   beverages  \n",
       "1            normal      18-33          low   beverages  \n",
       "2            normal      18-33          low   beverages  \n",
       "3            normal      18-33          low   beverages  \n",
       "4            normal      18-33          low   beverages  \n",
       "\n",
       "[5 rows x 35 columns]"
      ]
     },
     "execution_count": 51,
     "metadata": {},
     "output_type": "execute_result"
    }
   ],
   "source": [
    "active_cust_ords_prods.head()"
   ]
  },
  {
   "cell_type": "code",
   "execution_count": 52,
   "id": "f6a840f8",
   "metadata": {
    "scrolled": false
   },
   "outputs": [
    {
     "data": {
      "text/plain": [
       "Index(['order_id', 'user_id', 'order_number', 'orders_day_of_week',\n",
       "       'order_hour_of_day', 'days_since_prior_order', 'first_order',\n",
       "       'product_id', 'add_to_cart_order', 'reordered', 'product_name',\n",
       "       'aisle_id', 'department_id', 'prices', 'price_range_loc',\n",
       "       'busiest_days', 'busiest_period_of_day', 'max_order', 'loyalty_flag',\n",
       "       'avg_item_price', 'spending_flag', 'median_days_since_prior_order',\n",
       "       'frequency_flag', 'customer_gender', 'customer_state',\n",
       "       'customer_region', 'customer_age', 'date_joined',\n",
       "       'customer_number_of_dependents', 'customer_family_status',\n",
       "       'customer_income', 'customer_activity', 'age_group', 'income_group',\n",
       "       'department'],\n",
       "      dtype='object')"
      ]
     },
     "execution_count": 52,
     "metadata": {},
     "output_type": "execute_result"
    }
   ],
   "source": [
    "active_cust_ords_prods.columns"
   ]
  },
  {
   "cell_type": "code",
   "execution_count": 53,
   "id": "e6660c99",
   "metadata": {},
   "outputs": [],
   "source": [
    "# Reorder columns for customer state and customer region to be next to each other\n",
    "\n",
    "active_cust_ords_prods = active_cust_ords_prods[['order_id', 'user_id', 'order_number', 'orders_day_of_week',\n",
    "       'order_hour_of_day', 'days_since_prior_order', 'first_order',\n",
    "       'product_id', 'add_to_cart_order', 'reordered', 'product_name',\n",
    "       'aisle_id', 'department_id', 'department', 'prices', 'price_range_loc',\n",
    "       'busiest_days', 'busiest_period_of_day', 'max_order', 'loyalty_flag',\n",
    "       'avg_item_price', 'spending_flag', 'median_days_since_prior_order',\n",
    "       'frequency_flag', 'customer_gender', 'customer_state',\n",
    "       'customer_region', 'customer_age', 'date_joined',\n",
    "       'customer_number_of_dependents', 'customer_family_status',\n",
    "       'customer_income', 'customer_activity', 'age_group', 'income_group']]"
   ]
  },
  {
   "cell_type": "code",
   "execution_count": 54,
   "id": "54883efc",
   "metadata": {
    "scrolled": false
   },
   "outputs": [
    {
     "data": {
      "text/plain": [
       "department\n",
       "produce            9079273\n",
       "dairy eggs         5177182\n",
       "snacks             2766406\n",
       "beverages          2571901\n",
       "frozen             2121731\n",
       "pantry             1782705\n",
       "bakery             1120828\n",
       "canned goods       1012074\n",
       "deli               1003834\n",
       "dry goods pasta     822136\n",
       "household           699857\n",
       "meat seafood        674781\n",
       "breakfast           670850\n",
       "personal care       424306\n",
       "babies              410392\n",
       "international       255991\n",
       "alcohol             144627\n",
       "pets                 93060\n",
       "missing              64768\n",
       "other                34411\n",
       "bulk                 33451\n",
       "Name: count, dtype: int64"
      ]
     },
     "execution_count": 54,
     "metadata": {},
     "output_type": "execute_result"
    }
   ],
   "source": [
    "active_cust_ords_prods['department'].value_counts(dropna=False)"
   ]
  },
  {
   "cell_type": "code",
   "execution_count": 55,
   "id": "30b6b586",
   "metadata": {},
   "outputs": [],
   "source": [
    "# Create profiling variable based on number of dependents"
   ]
  },
  {
   "cell_type": "code",
   "execution_count": 56,
   "id": "ca9877cb",
   "metadata": {},
   "outputs": [
    {
     "data": {
      "text/plain": [
       "customer_number_of_dependents\n",
       "3    7772516\n",
       "0    7739681\n",
       "2    7733261\n",
       "1    7719106\n",
       "Name: count, dtype: int64"
      ]
     },
     "execution_count": 56,
     "metadata": {},
     "output_type": "execute_result"
    }
   ],
   "source": [
    "active_cust_ords_prods['customer_number_of_dependents'].value_counts(dropna=False)"
   ]
  },
  {
   "cell_type": "code",
   "execution_count": 57,
   "id": "301d3dc3",
   "metadata": {},
   "outputs": [
    {
     "name": "stderr",
     "output_type": "stream",
     "text": [
      "/var/folders/rh/wj0j2y0n7j1_m28h5wbms8q00000gn/T/ipykernel_18678/765050542.py:3: FutureWarning: Setting an item of incompatible dtype is deprecated and will raise in a future error of pandas. Value 'no dependents' has dtype incompatible with float64, please explicitly cast to a compatible dtype first.\n",
      "  active_cust_ords_prods.loc[active_cust_ords_prods['customer_number_of_dependents'] == 0, 'customer_dependents'] = 'no dependents'\n"
     ]
    }
   ],
   "source": [
    "# Flag customers who do not have any dependents as 'no dependents'\n",
    "\n",
    "active_cust_ords_prods.loc[active_cust_ords_prods['customer_number_of_dependents'] == 0, 'customer_dependents'] = 'no dependents'"
   ]
  },
  {
   "cell_type": "code",
   "execution_count": 58,
   "id": "085dba44",
   "metadata": {},
   "outputs": [],
   "source": [
    "# Flag customers who have dependents as '1 or more dependents'\n",
    "\n",
    "active_cust_ords_prods.loc[active_cust_ords_prods['customer_number_of_dependents'] > 0, 'customer_dependents'] = '1 or more dependents'"
   ]
  },
  {
   "cell_type": "code",
   "execution_count": 59,
   "id": "f78869ce",
   "metadata": {},
   "outputs": [
    {
     "data": {
      "text/plain": [
       "customer_dependents\n",
       "1 or more dependents    23224883\n",
       "no dependents            7739681\n",
       "Name: count, dtype: int64"
      ]
     },
     "execution_count": 59,
     "metadata": {},
     "output_type": "execute_result"
    }
   ],
   "source": [
    "active_cust_ords_prods['customer_dependents'].value_counts(dropna=False)"
   ]
  },
  {
   "cell_type": "code",
   "execution_count": 60,
   "id": "f66bd19e",
   "metadata": {},
   "outputs": [
    {
     "data": {
      "text/plain": [
       "Index(['order_id', 'user_id', 'order_number', 'orders_day_of_week',\n",
       "       'order_hour_of_day', 'days_since_prior_order', 'first_order',\n",
       "       'product_id', 'add_to_cart_order', 'reordered', 'product_name',\n",
       "       'aisle_id', 'department_id', 'department', 'prices', 'price_range_loc',\n",
       "       'busiest_days', 'busiest_period_of_day', 'max_order', 'loyalty_flag',\n",
       "       'avg_item_price', 'spending_flag', 'median_days_since_prior_order',\n",
       "       'frequency_flag', 'customer_gender', 'customer_state',\n",
       "       'customer_region', 'customer_age', 'date_joined',\n",
       "       'customer_number_of_dependents', 'customer_family_status',\n",
       "       'customer_income', 'customer_activity', 'age_group', 'income_group',\n",
       "       'customer_dependents'],\n",
       "      dtype='object')"
      ]
     },
     "execution_count": 60,
     "metadata": {},
     "output_type": "execute_result"
    }
   ],
   "source": [
    "active_cust_ords_prods.columns"
   ]
  },
  {
   "cell_type": "code",
   "execution_count": 61,
   "id": "e6432412",
   "metadata": {},
   "outputs": [
    {
     "data": {
      "text/plain": [
       "customer_family_status\n",
       "married                             21743711\n",
       "single                               5094410\n",
       "divorced/widowed                     2645271\n",
       "living with parents and siblings     1481172\n",
       "Name: count, dtype: int64"
      ]
     },
     "execution_count": 61,
     "metadata": {},
     "output_type": "execute_result"
    }
   ],
   "source": [
    "active_cust_ords_prods['customer_family_status'].value_counts(dropna=False)"
   ]
  },
  {
   "cell_type": "code",
   "execution_count": 62,
   "id": "e999e3b6",
   "metadata": {},
   "outputs": [
    {
     "data": {
      "text/plain": [
       "customer_dependents\n",
       "1 or more dependents    23224883\n",
       "no dependents            7739681\n",
       "Name: count, dtype: int64"
      ]
     },
     "execution_count": 62,
     "metadata": {},
     "output_type": "execute_result"
    }
   ],
   "source": [
    "active_cust_ords_prods['customer_dependents'].value_counts(dropna=False)"
   ]
  },
  {
   "cell_type": "code",
   "execution_count": 63,
   "id": "a7028228",
   "metadata": {},
   "outputs": [
    {
     "data": {
      "text/plain": [
       "income_group\n",
       "moderate    15481955\n",
       "low          7741348\n",
       "high         7741261\n",
       "Name: count, dtype: int64"
      ]
     },
     "execution_count": 63,
     "metadata": {},
     "output_type": "execute_result"
    }
   ],
   "source": [
    "active_cust_ords_prods['income_group'].value_counts(dropna=False)"
   ]
  },
  {
   "cell_type": "code",
   "execution_count": 64,
   "id": "43b83145",
   "metadata": {
    "scrolled": true
   },
   "outputs": [
    {
     "data": {
      "text/plain": [
       "age_group\n",
       "34-49    7790824\n",
       "18-33    7757465\n",
       "66-81    7730834\n",
       "50-65    7685441\n",
       "Name: count, dtype: int64"
      ]
     },
     "execution_count": 64,
     "metadata": {},
     "output_type": "execute_result"
    }
   ],
   "source": [
    "active_cust_ords_prods['age_group'].value_counts(dropna=False)"
   ]
  },
  {
   "cell_type": "code",
   "execution_count": 65,
   "id": "7926f797",
   "metadata": {
    "scrolled": true
   },
   "outputs": [
    {
     "data": {
      "text/plain": [
       "customer_gender\n",
       "Male      15586740\n",
       "Female    15377824\n",
       "Name: count, dtype: int64"
      ]
     },
     "execution_count": 65,
     "metadata": {},
     "output_type": "execute_result"
    }
   ],
   "source": [
    "active_cust_ords_prods['customer_gender'].value_counts(dropna=False)"
   ]
  },
  {
   "cell_type": "code",
   "execution_count": 70,
   "id": "e8abf45f",
   "metadata": {},
   "outputs": [
    {
     "data": {
      "text/html": [
       "<div>\n",
       "<style scoped>\n",
       "    .dataframe tbody tr th:only-of-type {\n",
       "        vertical-align: middle;\n",
       "    }\n",
       "\n",
       "    .dataframe tbody tr th {\n",
       "        vertical-align: top;\n",
       "    }\n",
       "\n",
       "    .dataframe thead th {\n",
       "        text-align: right;\n",
       "    }\n",
       "</style>\n",
       "<table border=\"1\" class=\"dataframe\">\n",
       "  <thead>\n",
       "    <tr style=\"text-align: right;\">\n",
       "      <th></th>\n",
       "      <th>order_id</th>\n",
       "      <th>user_id</th>\n",
       "      <th>order_number</th>\n",
       "      <th>orders_day_of_week</th>\n",
       "      <th>order_hour_of_day</th>\n",
       "      <th>days_since_prior_order</th>\n",
       "      <th>first_order</th>\n",
       "      <th>product_id</th>\n",
       "      <th>add_to_cart_order</th>\n",
       "      <th>reordered</th>\n",
       "      <th>...</th>\n",
       "      <th>customer_region</th>\n",
       "      <th>customer_age</th>\n",
       "      <th>date_joined</th>\n",
       "      <th>customer_number_of_dependents</th>\n",
       "      <th>customer_family_status</th>\n",
       "      <th>customer_income</th>\n",
       "      <th>customer_activity</th>\n",
       "      <th>age_group</th>\n",
       "      <th>income_group</th>\n",
       "      <th>customer_dependents</th>\n",
       "    </tr>\n",
       "  </thead>\n",
       "  <tbody>\n",
       "    <tr>\n",
       "      <th>0</th>\n",
       "      <td>2539329</td>\n",
       "      <td>1</td>\n",
       "      <td>1</td>\n",
       "      <td>2</td>\n",
       "      <td>8</td>\n",
       "      <td>NaN</td>\n",
       "      <td>True</td>\n",
       "      <td>196</td>\n",
       "      <td>1</td>\n",
       "      <td>0</td>\n",
       "      <td>...</td>\n",
       "      <td>South</td>\n",
       "      <td>31</td>\n",
       "      <td>2/17/2019</td>\n",
       "      <td>3</td>\n",
       "      <td>married</td>\n",
       "      <td>40423</td>\n",
       "      <td>normal</td>\n",
       "      <td>18-33</td>\n",
       "      <td>low</td>\n",
       "      <td>1 or more dependents</td>\n",
       "    </tr>\n",
       "    <tr>\n",
       "      <th>1</th>\n",
       "      <td>2398795</td>\n",
       "      <td>1</td>\n",
       "      <td>2</td>\n",
       "      <td>3</td>\n",
       "      <td>7</td>\n",
       "      <td>15.0</td>\n",
       "      <td>False</td>\n",
       "      <td>196</td>\n",
       "      <td>1</td>\n",
       "      <td>1</td>\n",
       "      <td>...</td>\n",
       "      <td>South</td>\n",
       "      <td>31</td>\n",
       "      <td>2/17/2019</td>\n",
       "      <td>3</td>\n",
       "      <td>married</td>\n",
       "      <td>40423</td>\n",
       "      <td>normal</td>\n",
       "      <td>18-33</td>\n",
       "      <td>low</td>\n",
       "      <td>1 or more dependents</td>\n",
       "    </tr>\n",
       "    <tr>\n",
       "      <th>2</th>\n",
       "      <td>473747</td>\n",
       "      <td>1</td>\n",
       "      <td>3</td>\n",
       "      <td>3</td>\n",
       "      <td>12</td>\n",
       "      <td>21.0</td>\n",
       "      <td>False</td>\n",
       "      <td>196</td>\n",
       "      <td>1</td>\n",
       "      <td>1</td>\n",
       "      <td>...</td>\n",
       "      <td>South</td>\n",
       "      <td>31</td>\n",
       "      <td>2/17/2019</td>\n",
       "      <td>3</td>\n",
       "      <td>married</td>\n",
       "      <td>40423</td>\n",
       "      <td>normal</td>\n",
       "      <td>18-33</td>\n",
       "      <td>low</td>\n",
       "      <td>1 or more dependents</td>\n",
       "    </tr>\n",
       "    <tr>\n",
       "      <th>3</th>\n",
       "      <td>2254736</td>\n",
       "      <td>1</td>\n",
       "      <td>4</td>\n",
       "      <td>4</td>\n",
       "      <td>7</td>\n",
       "      <td>29.0</td>\n",
       "      <td>False</td>\n",
       "      <td>196</td>\n",
       "      <td>1</td>\n",
       "      <td>1</td>\n",
       "      <td>...</td>\n",
       "      <td>South</td>\n",
       "      <td>31</td>\n",
       "      <td>2/17/2019</td>\n",
       "      <td>3</td>\n",
       "      <td>married</td>\n",
       "      <td>40423</td>\n",
       "      <td>normal</td>\n",
       "      <td>18-33</td>\n",
       "      <td>low</td>\n",
       "      <td>1 or more dependents</td>\n",
       "    </tr>\n",
       "    <tr>\n",
       "      <th>4</th>\n",
       "      <td>431534</td>\n",
       "      <td>1</td>\n",
       "      <td>5</td>\n",
       "      <td>4</td>\n",
       "      <td>15</td>\n",
       "      <td>28.0</td>\n",
       "      <td>False</td>\n",
       "      <td>196</td>\n",
       "      <td>1</td>\n",
       "      <td>1</td>\n",
       "      <td>...</td>\n",
       "      <td>South</td>\n",
       "      <td>31</td>\n",
       "      <td>2/17/2019</td>\n",
       "      <td>3</td>\n",
       "      <td>married</td>\n",
       "      <td>40423</td>\n",
       "      <td>normal</td>\n",
       "      <td>18-33</td>\n",
       "      <td>low</td>\n",
       "      <td>1 or more dependents</td>\n",
       "    </tr>\n",
       "  </tbody>\n",
       "</table>\n",
       "<p>5 rows × 36 columns</p>\n",
       "</div>"
      ],
      "text/plain": [
       "   order_id  user_id  order_number  orders_day_of_week  order_hour_of_day  \\\n",
       "0   2539329        1             1                   2                  8   \n",
       "1   2398795        1             2                   3                  7   \n",
       "2    473747        1             3                   3                 12   \n",
       "3   2254736        1             4                   4                  7   \n",
       "4    431534        1             5                   4                 15   \n",
       "\n",
       "   days_since_prior_order  first_order  product_id  add_to_cart_order  \\\n",
       "0                     NaN         True         196                  1   \n",
       "1                    15.0        False         196                  1   \n",
       "2                    21.0        False         196                  1   \n",
       "3                    29.0        False         196                  1   \n",
       "4                    28.0        False         196                  1   \n",
       "\n",
       "   reordered  ... customer_region  customer_age  date_joined  \\\n",
       "0          0  ...           South            31    2/17/2019   \n",
       "1          1  ...           South            31    2/17/2019   \n",
       "2          1  ...           South            31    2/17/2019   \n",
       "3          1  ...           South            31    2/17/2019   \n",
       "4          1  ...           South            31    2/17/2019   \n",
       "\n",
       "  customer_number_of_dependents  customer_family_status customer_income  \\\n",
       "0                             3                 married           40423   \n",
       "1                             3                 married           40423   \n",
       "2                             3                 married           40423   \n",
       "3                             3                 married           40423   \n",
       "4                             3                 married           40423   \n",
       "\n",
       "  customer_activity age_group  income_group   customer_dependents  \n",
       "0            normal     18-33           low  1 or more dependents  \n",
       "1            normal     18-33           low  1 or more dependents  \n",
       "2            normal     18-33           low  1 or more dependents  \n",
       "3            normal     18-33           low  1 or more dependents  \n",
       "4            normal     18-33           low  1 or more dependents  \n",
       "\n",
       "[5 rows x 36 columns]"
      ]
     },
     "execution_count": 70,
     "metadata": {},
     "output_type": "execute_result"
    }
   ],
   "source": [
    "active_cust_ords_prods.head()"
   ]
  },
  {
   "cell_type": "code",
   "execution_count": 71,
   "id": "52aca496",
   "metadata": {
    "scrolled": true
   },
   "outputs": [],
   "source": [
    "# Create a new column 'diet' and initialize it as 'none'\n",
    "active_cust_ords_prods['customer_diet'] = 'none'"
   ]
  },
  {
   "cell_type": "code",
   "execution_count": 72,
   "id": "d14be0a5",
   "metadata": {},
   "outputs": [],
   "source": [
    "# Loop through unique user_ids\n",
    "unique_user_ids = active_cust_ords_prods['user_id'].unique()\n",
    "for user_id in unique_user_ids:\n",
    "    # Create a subset of orders for the current user_id\n",
    "    user_subset = active_cust_ords_prods[active_cust_ords_prods['user_id'] == user_id]\n",
    "    \n",
    "    # Check if 'meat seafood' and 'dairy eggs' are not present in any department in the subset\n",
    "    if ('meat seafood' not in user_subset['department'].values) and ('dairy eggs' not in user_subset['department'].values):\n",
    "        # Update the 'diet' column for this user_id to 'vegan'\n",
    "        active_cust_ords_prods.loc[active_cust_ords_prods['user_id'] == user_id, 'customer_diet'] = 'vegan'\n",
    "    # Check if 'meat seafood' is not present but 'dairy' is\n",
    "    elif ('meat seafood' not in user_subset['department'].values) and ('dairy eggs' in user_subset['department'].values):\n",
    "        # Update the 'diet' column for this user_id to 'vegetarian'\n",
    "        active_cust_ords_prods.loc[active_cust_ords_prods['user_id'] == user_id, 'customer_diet'] = 'vegetarian'"
   ]
  },
  {
   "cell_type": "code",
   "execution_count": 82,
   "id": "6288c7a3",
   "metadata": {},
   "outputs": [
    {
     "data": {
      "text/plain": [
       "customer_diet\n",
       "none          23065332\n",
       "vegetarian     7589236\n",
       "vegan           309996\n",
       "Name: count, dtype: int64"
      ]
     },
     "execution_count": 82,
     "metadata": {},
     "output_type": "execute_result"
    }
   ],
   "source": [
    "active_cust_ords_prods['customer_diet'].value_counts(dropna=False)"
   ]
  },
  {
   "cell_type": "markdown",
   "id": "22c2eebd",
   "metadata": {},
   "source": [
    "## Export data"
   ]
  },
  {
   "cell_type": "code",
   "execution_count": 83,
   "id": "057d4796",
   "metadata": {},
   "outputs": [],
   "source": [
    "# Export active_cust_ords_prods to pickle file\n",
    "\n",
    "active_cust_ords_prods.to_pickle(os.path.join(path, '02 Data','Prepared Data', 'active_customers_orders_products.pkl'))"
   ]
  },
  {
   "cell_type": "code",
   "execution_count": null,
   "id": "3e889da1",
   "metadata": {},
   "outputs": [],
   "source": []
  },
  {
   "cell_type": "code",
   "execution_count": null,
   "id": "324ad6e8",
   "metadata": {},
   "outputs": [],
   "source": []
  },
  {
   "cell_type": "code",
   "execution_count": null,
   "id": "15d879bc",
   "metadata": {},
   "outputs": [],
   "source": []
  },
  {
   "cell_type": "code",
   "execution_count": null,
   "id": "374f6287",
   "metadata": {},
   "outputs": [],
   "source": []
  },
  {
   "cell_type": "code",
   "execution_count": null,
   "id": "b57c0928",
   "metadata": {},
   "outputs": [],
   "source": [
    "# Jordan's code\n",
    "\n",
    "dict1 = {}\n",
    "for customer in df[\"customer\"]:\n",
    "    print(customer)\n",
    "    print(df[df['customer'] == customer][\"department\"])\n",
    "    if 'dairy' in df[df['customer'] == customer][\"department\"].to_list():\n",
    "        dict1[customer] = 'dairy'\n",
    "        print('dairy')\n",
    "    else:\n",
    "        dict1[customer] = 'non_dairy'\n",
    "        print('non_dairy')"
   ]
  },
  {
   "cell_type": "code",
   "execution_count": null,
   "id": "883504e3",
   "metadata": {},
   "outputs": [],
   "source": []
  },
  {
   "cell_type": "code",
   "execution_count": null,
   "id": "ff9c0b8d",
   "metadata": {},
   "outputs": [],
   "source": []
  },
  {
   "cell_type": "code",
   "execution_count": null,
   "id": "8604dae3",
   "metadata": {},
   "outputs": [],
   "source": []
  },
  {
   "cell_type": "code",
   "execution_count": null,
   "id": "ab4afd28",
   "metadata": {},
   "outputs": [],
   "source": []
  },
  {
   "cell_type": "code",
   "execution_count": null,
   "id": "20240d3a",
   "metadata": {},
   "outputs": [],
   "source": []
  }
 ],
 "metadata": {
  "kernelspec": {
   "display_name": "Python 3 (ipykernel)",
   "language": "python",
   "name": "python3"
  },
  "language_info": {
   "codemirror_mode": {
    "name": "ipython",
    "version": 3
   },
   "file_extension": ".py",
   "mimetype": "text/x-python",
   "name": "python",
   "nbconvert_exporter": "python",
   "pygments_lexer": "ipython3",
   "version": "3.11.5"
  }
 },
 "nbformat": 4,
 "nbformat_minor": 5
}
