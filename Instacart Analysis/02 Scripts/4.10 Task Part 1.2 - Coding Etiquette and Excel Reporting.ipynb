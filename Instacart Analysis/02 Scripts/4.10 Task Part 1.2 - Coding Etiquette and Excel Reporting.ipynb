{
 "cells": [
  {
   "cell_type": "markdown",
   "id": "d2737c91",
   "metadata": {},
   "source": [
    "# 4.10 Task Part 1.2 - Coding Etiquette and Excel Reporting"
   ]
  },
  {
   "cell_type": "markdown",
   "id": "860000a2",
   "metadata": {},
   "source": [
    "### Script contents:\n",
    "\n",
    "#### 1. Import libraries and data\n",
    "#### 2. Modify customer profile, age group columns\n",
    "#### 3. Create customer profiling based upon gender, age group, and customer dependents"
   ]
  },
  {
   "cell_type": "markdown",
   "id": "1187f16f",
   "metadata": {},
   "source": [
    "## Import libraries and data"
   ]
  },
  {
   "cell_type": "code",
   "execution_count": 1,
   "id": "03c38015",
   "metadata": {},
   "outputs": [],
   "source": [
    "# Import libraries\n",
    "\n",
    "import pandas as pd\n",
    "import numpy as np\n",
    "import os\n",
    "import matplotlib.pyplot as plt\n",
    "import seaborn as sns\n",
    "import scipy"
   ]
  },
  {
   "cell_type": "code",
   "execution_count": 2,
   "id": "4872b06e",
   "metadata": {},
   "outputs": [],
   "source": [
    "# Creating a string of the path to main project folder\n",
    "\n",
    "path = '/Users/jarrettpugh/Library/CloudStorage/OneDrive-Personal/Data Analytics/Career Foundry - DA Bootcamp/A4 Python Fundamentals for Data Analysts/Instacart Basket Analysis'"
   ]
  },
  {
   "cell_type": "code",
   "execution_count": 70,
   "id": "99491d32",
   "metadata": {},
   "outputs": [],
   "source": [
    "# Import active_customers_orders_products pickle file as dataframe cust_ords_prods\n",
    "\n",
    "cust_ords_prods = pd.read_pickle(os.path.join(path, '02 Data', 'Prepared Data', 'active_customers_orders_products.pkl'))"
   ]
  },
  {
   "cell_type": "code",
   "execution_count": null,
   "id": "ec5a1968",
   "metadata": {},
   "outputs": [],
   "source": [
    "cust_ords_prods.head()"
   ]
  },
  {
   "cell_type": "code",
   "execution_count": 9,
   "id": "a4155dd3",
   "metadata": {
    "scrolled": true
   },
   "outputs": [
    {
     "data": {
      "text/plain": [
       "Index(['order_id', 'user_id', 'order_number', 'orders_day_of_week',\n",
       "       'order_hour_of_day', 'days_since_prior_order', 'first_order',\n",
       "       'product_id', 'add_to_cart_order', 'reordered', 'product_name',\n",
       "       'aisle_id', 'department_id', 'department', 'prices', 'price_range_loc',\n",
       "       'busiest_days', 'busiest_period_of_day', 'max_order', 'loyalty_flag',\n",
       "       'avg_item_price', 'spending_flag', 'median_days_since_prior_order',\n",
       "       'frequency_flag', 'customer_gender', 'customer_state',\n",
       "       'customer_region', 'customer_age', 'date_joined',\n",
       "       'customer_number_of_dependents', 'customer_family_status',\n",
       "       'customer_income', 'customer_activity', 'age_group', 'income_group',\n",
       "       'customer_dependents', 'customer_diet'],\n",
       "      dtype='object')"
      ]
     },
     "execution_count": 9,
     "metadata": {},
     "output_type": "execute_result"
    }
   ],
   "source": [
    "cust_ords_prods.columns"
   ]
  },
  {
   "cell_type": "code",
   "execution_count": 14,
   "id": "9be66812",
   "metadata": {},
   "outputs": [
    {
     "data": {
      "text/plain": [
       "(30964564, 37)"
      ]
     },
     "execution_count": 14,
     "metadata": {},
     "output_type": "execute_result"
    }
   ],
   "source": [
    "cust_ords_prods.shape"
   ]
  },
  {
   "cell_type": "markdown",
   "id": "f0863f33",
   "metadata": {},
   "source": [
    "#### Modify customer profile, age group columns"
   ]
  },
  {
   "cell_type": "code",
   "execution_count": null,
   "id": "dc115123",
   "metadata": {
    "scrolled": true
   },
   "outputs": [],
   "source": [
    "cust_ords_prods['customer_dependents'].value_counts(dropna=False)"
   ]
  },
  {
   "cell_type": "code",
   "execution_count": null,
   "id": "fd14488d",
   "metadata": {},
   "outputs": [],
   "source": [
    "cust_ords_prods['income_group'].value_counts(dropna=False)"
   ]
  },
  {
   "cell_type": "code",
   "execution_count": null,
   "id": "4072e5de",
   "metadata": {},
   "outputs": [],
   "source": [
    "cust_ords_prods['age_group'].value_counts(dropna=False)"
   ]
  },
  {
   "cell_type": "code",
   "execution_count": null,
   "id": "b10239b1",
   "metadata": {},
   "outputs": [],
   "source": [
    "cust_ords_prods['customer_diet'].value_counts(dropna=False)"
   ]
  },
  {
   "cell_type": "code",
   "execution_count": 16,
   "id": "8ef02438",
   "metadata": {},
   "outputs": [],
   "source": [
    "# Create a new column 'customer_profile' and initialize it as 'none'\n",
    "cust_ords_prods['customer_profile'] = 'none'"
   ]
  },
  {
   "cell_type": "code",
   "execution_count": null,
   "id": "a313a5d2",
   "metadata": {
    "scrolled": true
   },
   "outputs": [],
   "source": [
    "cust_ords_prods['age_group'].value_counts(dropna=False)"
   ]
  },
  {
   "cell_type": "code",
   "execution_count": null,
   "id": "b44d8135",
   "metadata": {},
   "outputs": [],
   "source": [
    "# Change age_group column to young, middle-aged, and old"
   ]
  },
  {
   "cell_type": "code",
   "execution_count": 36,
   "id": "e9bd1fa6",
   "metadata": {},
   "outputs": [],
   "source": [
    "# Replace '18-33' with 'young'\n",
    "cust_ords_prods['age_group'] = cust_ords_prods['age_group'].replace('18-33', 'young')"
   ]
  },
  {
   "cell_type": "code",
   "execution_count": 37,
   "id": "2c412dce",
   "metadata": {},
   "outputs": [],
   "source": [
    "# Replace '18-33', '34-49', '50-65', and '66-81' with 'young', 'middle aged', 'middle aged', and 'old'\n",
    "cust_ords_prods['age_group'] = cust_ords_prods['age_group'].replace(['34-49', '50-65', '66-81'], ['middle-aged', 'middle-aged', 'old'])"
   ]
  },
  {
   "cell_type": "code",
   "execution_count": 40,
   "id": "b5a1b643",
   "metadata": {},
   "outputs": [
    {
     "data": {
      "text/plain": [
       "age_group\n",
       "middle-aged    15476265\n",
       "young           7757465\n",
       "old             7730834\n",
       "Name: count, dtype: int64"
      ]
     },
     "execution_count": 40,
     "metadata": {},
     "output_type": "execute_result"
    }
   ],
   "source": [
    "#Recheck value counts\n",
    "\n",
    "cust_ords_prods['age_group'].value_counts(dropna=False)"
   ]
  },
  {
   "cell_type": "code",
   "execution_count": 42,
   "id": "b188e7f8",
   "metadata": {},
   "outputs": [],
   "source": [
    "# Create subset of cust_ords_prods with selected columns\n",
    "\n",
    "df = cust_ords_prods[['user_id', 'customer_gender', 'age_group', 'income_group', 'customer_dependents']]"
   ]
  },
  {
   "cell_type": "code",
   "execution_count": 43,
   "id": "21cb5431",
   "metadata": {},
   "outputs": [
    {
     "data": {
      "text/plain": [
       "(30964564, 5)"
      ]
     },
     "execution_count": 43,
     "metadata": {},
     "output_type": "execute_result"
    }
   ],
   "source": [
    "df.shape"
   ]
  },
  {
   "cell_type": "code",
   "execution_count": 44,
   "id": "c03207d6",
   "metadata": {},
   "outputs": [],
   "source": [
    "# Create subset of df with unique values for user_id column\n",
    "\n",
    "df_unique = df.drop_duplicates(subset=['user_id'])"
   ]
  },
  {
   "cell_type": "code",
   "execution_count": 45,
   "id": "1791c358",
   "metadata": {},
   "outputs": [
    {
     "data": {
      "text/plain": [
       "(162631, 5)"
      ]
     },
     "execution_count": 45,
     "metadata": {},
     "output_type": "execute_result"
    }
   ],
   "source": [
    "df_unique.shape"
   ]
  },
  {
   "cell_type": "code",
   "execution_count": 46,
   "id": "0ddb4247",
   "metadata": {},
   "outputs": [
    {
     "data": {
      "text/plain": [
       "Index(['user_id', 'customer_gender', 'age_group', 'income_group',\n",
       "       'customer_dependents'],\n",
       "      dtype='object')"
      ]
     },
     "execution_count": 46,
     "metadata": {},
     "output_type": "execute_result"
    }
   ],
   "source": [
    "df_unique.columns"
   ]
  },
  {
   "cell_type": "code",
   "execution_count": 47,
   "id": "ccdb638a",
   "metadata": {},
   "outputs": [
    {
     "name": "stderr",
     "output_type": "stream",
     "text": [
      "/var/folders/rh/wj0j2y0n7j1_m28h5wbms8q00000gn/T/ipykernel_29715/3452904455.py:3: SettingWithCopyWarning: \n",
      "A value is trying to be set on a copy of a slice from a DataFrame.\n",
      "Try using .loc[row_indexer,col_indexer] = value instead\n",
      "\n",
      "See the caveats in the documentation: https://pandas.pydata.org/pandas-docs/stable/user_guide/indexing.html#returning-a-view-versus-a-copy\n",
      "  df_unique['customer_profile'] = 'none'\n"
     ]
    }
   ],
   "source": [
    "# Create a new column 'customer_profile' and initialize it as 'none'\n",
    "\n",
    "df_unique['customer_profile'] = 'none'"
   ]
  },
  {
   "cell_type": "code",
   "execution_count": 48,
   "id": "f561ffdf",
   "metadata": {},
   "outputs": [],
   "source": [
    "#Reassign df_unique as df for speed\n",
    "\n",
    "df = df_unique"
   ]
  },
  {
   "cell_type": "code",
   "execution_count": 49,
   "id": "19c29e5c",
   "metadata": {
    "scrolled": true
   },
   "outputs": [
    {
     "data": {
      "text/plain": [
       "(162631, 6)"
      ]
     },
     "execution_count": 49,
     "metadata": {},
     "output_type": "execute_result"
    }
   ],
   "source": [
    "df.shape"
   ]
  },
  {
   "cell_type": "code",
   "execution_count": 50,
   "id": "31e69f36",
   "metadata": {
    "scrolled": true
   },
   "outputs": [
    {
     "data": {
      "text/html": [
       "<div>\n",
       "<style scoped>\n",
       "    .dataframe tbody tr th:only-of-type {\n",
       "        vertical-align: middle;\n",
       "    }\n",
       "\n",
       "    .dataframe tbody tr th {\n",
       "        vertical-align: top;\n",
       "    }\n",
       "\n",
       "    .dataframe thead th {\n",
       "        text-align: right;\n",
       "    }\n",
       "</style>\n",
       "<table border=\"1\" class=\"dataframe\">\n",
       "  <thead>\n",
       "    <tr style=\"text-align: right;\">\n",
       "      <th></th>\n",
       "      <th>user_id</th>\n",
       "      <th>customer_gender</th>\n",
       "      <th>age_group</th>\n",
       "      <th>income_group</th>\n",
       "      <th>customer_dependents</th>\n",
       "      <th>customer_profile</th>\n",
       "    </tr>\n",
       "  </thead>\n",
       "  <tbody>\n",
       "    <tr>\n",
       "      <th>0</th>\n",
       "      <td>1</td>\n",
       "      <td>Female</td>\n",
       "      <td>young</td>\n",
       "      <td>low</td>\n",
       "      <td>1 or more dependents</td>\n",
       "      <td>none</td>\n",
       "    </tr>\n",
       "    <tr>\n",
       "      <th>59</th>\n",
       "      <td>15</td>\n",
       "      <td>Female</td>\n",
       "      <td>old</td>\n",
       "      <td>low</td>\n",
       "      <td>no dependents</td>\n",
       "      <td>none</td>\n",
       "    </tr>\n",
       "    <tr>\n",
       "      <th>131</th>\n",
       "      <td>19</td>\n",
       "      <td>Female</td>\n",
       "      <td>middle-aged</td>\n",
       "      <td>high</td>\n",
       "      <td>1 or more dependents</td>\n",
       "      <td>none</td>\n",
       "    </tr>\n",
       "    <tr>\n",
       "      <th>335</th>\n",
       "      <td>21</td>\n",
       "      <td>Male</td>\n",
       "      <td>old</td>\n",
       "      <td>moderate</td>\n",
       "      <td>no dependents</td>\n",
       "      <td>none</td>\n",
       "    </tr>\n",
       "    <tr>\n",
       "      <th>540</th>\n",
       "      <td>31</td>\n",
       "      <td>Female</td>\n",
       "      <td>middle-aged</td>\n",
       "      <td>low</td>\n",
       "      <td>1 or more dependents</td>\n",
       "      <td>none</td>\n",
       "    </tr>\n",
       "  </tbody>\n",
       "</table>\n",
       "</div>"
      ],
      "text/plain": [
       "     user_id customer_gender    age_group income_group   customer_dependents  \\\n",
       "0          1          Female        young          low  1 or more dependents   \n",
       "59        15          Female          old          low         no dependents   \n",
       "131       19          Female  middle-aged         high  1 or more dependents   \n",
       "335       21            Male          old     moderate         no dependents   \n",
       "540       31          Female  middle-aged          low  1 or more dependents   \n",
       "\n",
       "    customer_profile  \n",
       "0               none  \n",
       "59              none  \n",
       "131             none  \n",
       "335             none  \n",
       "540             none  "
      ]
     },
     "execution_count": 50,
     "metadata": {},
     "output_type": "execute_result"
    }
   ],
   "source": [
    "df.head()"
   ]
  },
  {
   "cell_type": "code",
   "execution_count": 54,
   "id": "9daf9f03",
   "metadata": {},
   "outputs": [
    {
     "data": {
      "text/plain": [
       "customer_profile\n",
       "none    162631\n",
       "Name: count, dtype: int64"
      ]
     },
     "execution_count": 54,
     "metadata": {},
     "output_type": "execute_result"
    }
   ],
   "source": [
    "df['customer_profile'].value_counts(dropna=False)"
   ]
  },
  {
   "cell_type": "markdown",
   "id": "43f60376",
   "metadata": {},
   "source": [
    "#### Create customer profiling based upon gender, age group, and customer dependents"
   ]
  },
  {
   "cell_type": "code",
   "execution_count": null,
   "id": "bda1bdea",
   "metadata": {},
   "outputs": [],
   "source": [
    "# Create customer profiling based upon gender, age group, and customer dependents"
   ]
  },
  {
   "cell_type": "code",
   "execution_count": 56,
   "id": "df7d01a2",
   "metadata": {},
   "outputs": [],
   "source": [
    "# Combine gender, age group, and customer dependents in customer profile value\n",
    "\n",
    "df.loc[(df['customer_gender'] =='Male') & (df['age_group'] =='young') & (df['customer_dependents'] == 'no dependents'),\n",
    "       'customer_profile'] = 'young male with no dependents'\n",
    "df.loc[(df['customer_gender'] =='Female') & (df['age_group'] =='young') & (df['customer_dependents'] == 'no dependents'),\n",
    "       'customer_profile'] = 'young female with no dependents'\n",
    "df.loc[(df['customer_gender'] =='Male') & (df['age_group'] =='young') & (df['customer_dependents'] == '1 or more dependents'),\n",
    "       'customer_profile'] = 'young male with 1 or more dependents'\n",
    "df.loc[(df['customer_gender'] =='Female') & (df['age_group'] =='young') & (df['customer_dependents'] == '1 or more dependents'),\n",
    "       'customer_profile'] = 'young female with 1 or more dependents'\n",
    "\n",
    "\n",
    "df.loc[(df['customer_gender'] =='Male') & (df['age_group'] =='middle-aged') & (df['customer_dependents'] == 'no dependents'),\n",
    "       'customer_profile'] = 'middle-aged male with no dependents'\n",
    "df.loc[(df['customer_gender'] =='Female') & (df['age_group'] =='middle-aged') & (df['customer_dependents'] == 'no dependents'),\n",
    "       'customer_profile'] = 'middle-aged female with no dependents'\n",
    "df.loc[(df['customer_gender'] =='Male') & (df['age_group'] =='middle-aged') & (df['customer_dependents'] == '1 or more dependents'),\n",
    "       'customer_profile'] = 'middle-aged male with 1 or more dependents'\n",
    "df.loc[(df['customer_gender'] =='Female') & (df['age_group'] =='middle-aged') & (df['customer_dependents'] == '1 or more dependents'),\n",
    "       'customer_profile'] = 'middle-aged female with 1 or more dependents'\n",
    "\n",
    "\n",
    "df.loc[(df['customer_gender'] =='Male') & (df['age_group'] =='old') & (df['customer_dependents'] == 'no dependents'),\n",
    "       'customer_profile'] = 'old male with no dependents'\n",
    "df.loc[(df['customer_gender'] =='Female') & (df['age_group'] =='old') & (df['customer_dependents'] == 'no dependents'),\n",
    "       'customer_profile'] = 'old female with no dependents'\n",
    "df.loc[(df['customer_gender'] =='Male') & (df['age_group'] =='old') & (df['customer_dependents'] == '1 or more dependents'),\n",
    "       'customer_profile'] = 'old male with 1 or more dependents'\n",
    "df.loc[(df['customer_gender'] =='Female') & (df['age_group'] =='old') & (df['customer_dependents'] == '1 or more dependents'),\n",
    "       'customer_profile'] = 'old female with 1 or more dependents'"
   ]
  },
  {
   "cell_type": "code",
   "execution_count": 73,
   "id": "982d8295",
   "metadata": {},
   "outputs": [
    {
     "data": {
      "text/plain": [
       "customer_profile\n",
       "middle-aged male with 1 or more dependents      30617\n",
       "middle-aged female with 1 or more dependents    30212\n",
       "old male with 1 or more dependents              15526\n",
       "young male with 1 or more dependents            15329\n",
       "old female with 1 or more dependents            15178\n",
       "young female with 1 or more dependents          15042\n",
       "middle-aged male with no dependents             10247\n",
       "middle-aged female with no dependents           10145\n",
       "young male with no dependents                    5228\n",
       "old male with no dependents                      5051\n",
       "young female with no dependents                  5042\n",
       "old female with no dependents                    5014\n",
       "Name: count, dtype: int64"
      ]
     },
     "execution_count": 73,
     "metadata": {},
     "output_type": "execute_result"
    }
   ],
   "source": [
    "#Recheck value counts for customer profile column\n",
    "\n",
    "df['customer_profile'].value_counts(dropna=False)"
   ]
  },
  {
   "cell_type": "code",
   "execution_count": 75,
   "id": "79abf493",
   "metadata": {},
   "outputs": [
    {
     "data": {
      "text/html": [
       "<div>\n",
       "<style scoped>\n",
       "    .dataframe tbody tr th:only-of-type {\n",
       "        vertical-align: middle;\n",
       "    }\n",
       "\n",
       "    .dataframe tbody tr th {\n",
       "        vertical-align: top;\n",
       "    }\n",
       "\n",
       "    .dataframe thead th {\n",
       "        text-align: right;\n",
       "    }\n",
       "</style>\n",
       "<table border=\"1\" class=\"dataframe\">\n",
       "  <thead>\n",
       "    <tr style=\"text-align: right;\">\n",
       "      <th></th>\n",
       "      <th>user_id</th>\n",
       "      <th>customer_profile</th>\n",
       "    </tr>\n",
       "  </thead>\n",
       "  <tbody>\n",
       "    <tr>\n",
       "      <th>0</th>\n",
       "      <td>1</td>\n",
       "      <td>young female with 1 or more dependents</td>\n",
       "    </tr>\n",
       "    <tr>\n",
       "      <th>59</th>\n",
       "      <td>15</td>\n",
       "      <td>old female with no dependents</td>\n",
       "    </tr>\n",
       "    <tr>\n",
       "      <th>131</th>\n",
       "      <td>19</td>\n",
       "      <td>middle-aged female with 1 or more dependents</td>\n",
       "    </tr>\n",
       "    <tr>\n",
       "      <th>335</th>\n",
       "      <td>21</td>\n",
       "      <td>old male with no dependents</td>\n",
       "    </tr>\n",
       "    <tr>\n",
       "      <th>540</th>\n",
       "      <td>31</td>\n",
       "      <td>middle-aged female with 1 or more dependents</td>\n",
       "    </tr>\n",
       "  </tbody>\n",
       "</table>\n",
       "</div>"
      ],
      "text/plain": [
       "     user_id                              customer_profile\n",
       "0          1        young female with 1 or more dependents\n",
       "59        15                 old female with no dependents\n",
       "131       19  middle-aged female with 1 or more dependents\n",
       "335       21                   old male with no dependents\n",
       "540       31  middle-aged female with 1 or more dependents"
      ]
     },
     "execution_count": 75,
     "metadata": {},
     "output_type": "execute_result"
    }
   ],
   "source": [
    "df[['user_id', 'customer_profile']].head()"
   ]
  },
  {
   "cell_type": "code",
   "execution_count": null,
   "id": "498b0d8a",
   "metadata": {},
   "outputs": [],
   "source": [
    "# Merge df back into cust_ords_prods"
   ]
  },
  {
   "cell_type": "code",
   "execution_count": 76,
   "id": "4dc26877",
   "metadata": {},
   "outputs": [],
   "source": [
    "#Trim columns that already exist in main df \n",
    "\n",
    "df_merge = df[['user_id', 'customer_profile']]"
   ]
  },
  {
   "cell_type": "code",
   "execution_count": null,
   "id": "f717e060",
   "metadata": {},
   "outputs": [],
   "source": [
    "# Re-import pickle file and assign to cust_ords_prods\n",
    "\n",
    "cust_ords_prods.head()"
   ]
  },
  {
   "cell_type": "code",
   "execution_count": 72,
   "id": "b4bb0f40",
   "metadata": {},
   "outputs": [
    {
     "data": {
      "text/plain": [
       "(30964564, 37)"
      ]
     },
     "execution_count": 72,
     "metadata": {},
     "output_type": "execute_result"
    }
   ],
   "source": [
    "cust_ords_prods.shape"
   ]
  },
  {
   "cell_type": "code",
   "execution_count": 77,
   "id": "b33b2ee2",
   "metadata": {},
   "outputs": [],
   "source": [
    "# Merge df_merge back into cust_ords_prods on user_id\n",
    "\n",
    "merged_df = cust_ords_prods.merge(df_merge, on = 'user_id')"
   ]
  },
  {
   "cell_type": "code",
   "execution_count": 78,
   "id": "fbb1b76f",
   "metadata": {},
   "outputs": [
    {
     "data": {
      "text/plain": [
       "(30964564, 38)"
      ]
     },
     "execution_count": 78,
     "metadata": {},
     "output_type": "execute_result"
    }
   ],
   "source": [
    "#Check shape\n",
    "\n",
    "merged_df.shape"
   ]
  },
  {
   "cell_type": "code",
   "execution_count": 80,
   "id": "9728798b",
   "metadata": {},
   "outputs": [],
   "source": [
    "# Reassign merged_df as df_cop (customers, orders, products)\n",
    "\n",
    "df_cop = merged_df"
   ]
  },
  {
   "cell_type": "code",
   "execution_count": null,
   "id": "64bfff44",
   "metadata": {},
   "outputs": [],
   "source": [
    "df_cop['customer_profile'].value_counts(dropna=False)"
   ]
  },
  {
   "cell_type": "code",
   "execution_count": 103,
   "id": "4a1b9415",
   "metadata": {},
   "outputs": [
    {
     "data": {
      "text/plain": [
       "(30964564, 38)"
      ]
     },
     "execution_count": 103,
     "metadata": {},
     "output_type": "execute_result"
    }
   ],
   "source": [
    "df_cop.shape"
   ]
  },
  {
   "cell_type": "markdown",
   "id": "7d9b6b0c",
   "metadata": {},
   "source": [
    "## Export data"
   ]
  },
  {
   "cell_type": "code",
   "execution_count": 104,
   "id": "a5c6da54",
   "metadata": {
    "scrolled": true
   },
   "outputs": [],
   "source": [
    "# Export df_cop to pickle file\n",
    "\n",
    "df_cop.to_pickle(os.path.join(path, '02 Data','Prepared Data', 'active_customers_orders_products.pkl'))"
   ]
  }
 ],
 "metadata": {
  "kernelspec": {
   "display_name": "Python 3 (ipykernel)",
   "language": "python",
   "name": "python3"
  },
  "language_info": {
   "codemirror_mode": {
    "name": "ipython",
    "version": 3
   },
   "file_extension": ".py",
   "mimetype": "text/x-python",
   "name": "python",
   "nbconvert_exporter": "python",
   "pygments_lexer": "ipython3",
   "version": "3.11.5"
  }
 },
 "nbformat": 4,
 "nbformat_minor": 5
}
